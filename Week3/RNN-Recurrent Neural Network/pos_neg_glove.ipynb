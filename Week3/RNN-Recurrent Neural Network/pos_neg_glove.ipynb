{
 "cells": [
  {
   "cell_type": "code",
   "execution_count": 1,
   "metadata": {},
   "outputs": [
    {
     "name": "stderr",
     "output_type": "stream",
     "text": [
      "/Users/sanjai/Library/Python/3.9/lib/python/site-packages/urllib3/__init__.py:35: NotOpenSSLWarning: urllib3 v2 only supports OpenSSL 1.1.1+, currently the 'ssl' module is compiled with 'LibreSSL 2.8.3'. See: https://github.com/urllib3/urllib3/issues/3020\n",
      "  warnings.warn(\n"
     ]
    }
   ],
   "source": [
    "import numpy as np\n",
    "import re\n",
    "import nltk\n",
    "from nltk.corpus import stopwords\n",
    "from nltk.tokenize import word_tokenize\n",
    "import string\n",
    "from keras.models import Sequential\n",
    "from keras.layers import Dense\n",
    "from keras.optimizers import Adam\n",
    "from sklearn.model_selection import train_test_split\n",
    "\n",
    "# Define the sentences\n",
    "positive_sentences = [\"I love this product.\", \"This is an amazing place.\", \"I feel great today.\", \"I am so excited about the concert.\", \"He is my best friend.\"]\n",
    "negative_sentences = [\"I do not like this at all.\", \"This is a terrible mistake.\", \"I am tired of this nonsense.\", \"I can't stand the rain.\", \"He is my worst enemy.\"]"
   ]
  },
  {
   "cell_type": "code",
   "execution_count": 2,
   "id": "817d23fb",
   "metadata": {},
   "outputs": [],
   "source": [
    "def preprocess_text(sen):\n",
    "\n",
    "    sen = re.sub('<.*?>', ' ', sen) # remove html tag\n",
    "\n",
    "    tokens = word_tokenize(sen)  # tokenizing words\n",
    "\n",
    "    tokens = [w.lower() for w in tokens]    # lower case\n",
    "\n",
    "    table = str.maketrans('', '', string.punctuation)  # remove punctuations\n",
    "    stripped = [w.translate(table) for w in tokens]\n",
    "\n",
    "    words = [word for word in stripped if word.isalpha()]  # remove non alphabet\n",
    "    stop_words = set(stopwords.words('english'))\n",
    "\n",
    "    # words = [w for w in words if not w in stop_words]   # remove stop words\n",
    "    words = [w for w in words if len(w) > 2]  # Ignore words less than 2\n",
    "\n",
    "    sentence = ' '.join(words)\n",
    "\n",
    "    return sentence"
   ]
  },
  {
   "cell_type": "code",
   "execution_count": 3,
   "id": "db326b28",
   "metadata": {},
   "outputs": [
    {
     "name": "stdout",
     "output_type": "stream",
     "text": [
      "['love this product', 'this amazing place', 'feel great today', 'excited about the concert', 'best friend']\n",
      "['not like this all', 'this terrible mistake', 'tired this nonsense', 'stand the rain', 'worst enemy']\n"
     ]
    }
   ],
   "source": [
    "processed_positive_sentence = [preprocess_text(sen) for sen in positive_sentences]\n",
    "processed_negative_sentence = [preprocess_text(sen) for sen in negative_sentences]\n",
    "print(processed_positive_sentence)\n",
    "print(processed_negative_sentence)"
   ]
  },
  {
   "cell_type": "code",
   "execution_count": 4,
   "id": "cc621a93",
   "metadata": {},
   "outputs": [],
   "source": [
    "def load_glove_embeddings(path):\n",
    "    embeddings = {}\n",
    "    with open(path, 'r', encoding='utf-8') as file:\n",
    "        for line in file:\n",
    "            values = line.split()\n",
    "            word = values[0]\n",
    "            vector = np.asarray(values[1:], dtype='float32')\n",
    "            embeddings[word] = vector\n",
    "    return embeddings\n",
    "\n",
    "# Load the GloVe embeddings\n",
    "embeddings = load_glove_embeddings('glove.6B.300d.txt')\n",
    "\n",
    "# Convert the sentences to GloVe embeddings\n",
    "positive_embeddings = [[embeddings[word] for word in sentence.split()] for sentence in processed_positive_sentence]\n",
    "negative_embeddings = [[embeddings[word] for word in sentence.split()] for sentence in processed_negative_sentence]"
   ]
  },
  {
   "cell_type": "code",
   "execution_count": 11,
   "id": "dc8b96f8",
   "metadata": {},
   "outputs": [
    {
     "name": "stdout",
     "output_type": "stream",
     "text": [
      "Epoch 1/10\n",
      "\u001b[1m1/1\u001b[0m \u001b[32m━━━━━━━━━━━━━━━━━━━━\u001b[0m\u001b[37m\u001b[0m \u001b[1m0s\u001b[0m 234ms/step - accuracy: 0.5000 - loss: 0.6903 - val_accuracy: 0.5000 - val_loss: 0.6769\n",
      "Epoch 2/10\n",
      "\u001b[1m1/1\u001b[0m \u001b[32m━━━━━━━━━━━━━━━━━━━━\u001b[0m\u001b[37m\u001b[0m \u001b[1m0s\u001b[0m 17ms/step - accuracy: 0.5000 - loss: 0.6808 - val_accuracy: 0.5000 - val_loss: 0.6772\n",
      "Epoch 3/10\n",
      "\u001b[1m1/1\u001b[0m \u001b[32m━━━━━━━━━━━━━━━━━━━━\u001b[0m\u001b[37m\u001b[0m \u001b[1m0s\u001b[0m 17ms/step - accuracy: 0.5000 - loss: 0.6714 - val_accuracy: 0.5000 - val_loss: 0.6774\n",
      "Epoch 4/10\n",
      "\u001b[1m1/1\u001b[0m \u001b[32m━━━━━━━━━━━━━━━━━━━━\u001b[0m\u001b[37m\u001b[0m \u001b[1m0s\u001b[0m 16ms/step - accuracy: 0.5000 - loss: 0.6623 - val_accuracy: 0.5000 - val_loss: 0.6777\n",
      "Epoch 5/10\n",
      "\u001b[1m1/1\u001b[0m \u001b[32m━━━━━━━━━━━━━━━━━━━━\u001b[0m\u001b[37m\u001b[0m \u001b[1m0s\u001b[0m 17ms/step - accuracy: 0.5000 - loss: 0.6533 - val_accuracy: 0.5000 - val_loss: 0.6780\n",
      "Epoch 6/10\n",
      "\u001b[1m1/1\u001b[0m \u001b[32m━━━━━━━━━━━━━━━━━━━━\u001b[0m\u001b[37m\u001b[0m \u001b[1m0s\u001b[0m 16ms/step - accuracy: 0.5000 - loss: 0.6445 - val_accuracy: 0.5000 - val_loss: 0.6782\n",
      "Epoch 7/10\n",
      "\u001b[1m1/1\u001b[0m \u001b[32m━━━━━━━━━━━━━━━━━━━━\u001b[0m\u001b[37m\u001b[0m \u001b[1m0s\u001b[0m 16ms/step - accuracy: 0.5000 - loss: 0.6358 - val_accuracy: 0.5000 - val_loss: 0.6785\n",
      "Epoch 8/10\n",
      "\u001b[1m1/1\u001b[0m \u001b[32m━━━━━━━━━━━━━━━━━━━━\u001b[0m\u001b[37m\u001b[0m \u001b[1m0s\u001b[0m 16ms/step - accuracy: 0.5000 - loss: 0.6274 - val_accuracy: 0.5000 - val_loss: 0.6788\n",
      "Epoch 9/10\n",
      "\u001b[1m1/1\u001b[0m \u001b[32m━━━━━━━━━━━━━━━━━━━━\u001b[0m\u001b[37m\u001b[0m \u001b[1m0s\u001b[0m 16ms/step - accuracy: 0.5000 - loss: 0.6191 - val_accuracy: 0.5000 - val_loss: 0.6791\n",
      "Epoch 10/10\n",
      "\u001b[1m1/1\u001b[0m \u001b[32m━━━━━━━━━━━━━━━━━━━━\u001b[0m\u001b[37m\u001b[0m \u001b[1m0s\u001b[0m 16ms/step - accuracy: 0.5000 - loss: 0.6110 - val_accuracy: 0.5000 - val_loss: 0.6793\n",
      "\u001b[1m1/1\u001b[0m \u001b[32m━━━━━━━━━━━━━━━━━━━━\u001b[0m\u001b[37m\u001b[0m \u001b[1m0s\u001b[0m 9ms/step - accuracy: 0.5000 - loss: 0.6793\n",
      "Test Accuracy: 50.0%\n"
     ]
    }
   ],
   "source": [
    "# Average the word embeddings for each sentence\n",
    "positive_vectors = [np.mean(sentence, axis=0) for sentence in positive_embeddings]\n",
    "negative_vectors = [np.mean(sentence, axis=0) for sentence in negative_embeddings]\n",
    "\n",
    "# Combine the positive and negative vectors\n",
    "X = positive_vectors + negative_vectors\n",
    "\n",
    "# Create labels for the positive and negative sentences\n",
    "y = [1 for _ in positive_vectors] + [0 for _ in negative_vectors]\n",
    "\n",
    "# Split the data into training and testing sets\n",
    "X_train, X_test, y_train, y_test = train_test_split(X, y, test_size=0.2, random_state=42)\n",
    "\n",
    "# Define the model\n",
    "model = Sequential()\n",
    "model.add(Dense(1, input_dim=300, activation='sigmoid'))\n",
    "\n",
    "# Compile the model\n",
    "model.compile(loss='binary_crossentropy', optimizer=Adam(), metrics=['accuracy'])\n",
    "\n",
    "# Train the model\n",
    "model.fit(np.array(X_train), np.array(y_train), epochs=10, validation_data=(np.array(X_test), np.array(y_test)))\n",
    "\n",
    "# Evaluate the model\n",
    "loss, accuracy = model.evaluate(np.array(X_test), np.array(y_test))\n",
    "print(f\"Test Accuracy: {accuracy * 100}%\")"
   ]
  },
  {
   "cell_type": "code",
   "execution_count": 14,
   "id": "9da11d41",
   "metadata": {},
   "outputs": [
    {
     "name": "stdout",
     "output_type": "stream",
     "text": [
      "\u001b[1m1/1\u001b[0m \u001b[32m━━━━━━━━━━━━━━━━━━━━\u001b[0m\u001b[37m\u001b[0m \u001b[1m0s\u001b[0m 9ms/step\n",
      "Sentence prediction: 0.6256235241889954\n"
     ]
    }
   ],
   "source": [
    "# Define the sentences\n",
    "sentence = \"excellent weather\"\n",
    "# sentence = \"worst weather\"\n",
    "processed_sentence = preprocess_text(sentence)\n",
    "\n",
    "# Convert the sentence to GloVe embeddings\n",
    "sentence_vector = np.mean([embeddings.get(word.lower(), np.zeros((300,))) for word in processed_sentence.split()], axis=0)\n",
    "\n",
    "# Create a batch\n",
    "X_predict = np.array([sentence_vector])\n",
    "\n",
    "# Use the model to predict the sentiment of the sentence\n",
    "prediction = model.predict(X_predict)\n",
    "\n",
    "# Print the prediction\n",
    "print(f\"Sentence prediction: {prediction[0][0]}\")\n"
   ]
  }
 ],
 "metadata": {
  "kernelspec": {
   "display_name": "Python 3",
   "language": "python",
   "name": "python3"
  },
  "language_info": {
   "codemirror_mode": {
    "name": "ipython",
    "version": 3
   },
   "file_extension": ".py",
   "mimetype": "text/x-python",
   "name": "python",
   "nbconvert_exporter": "python",
   "pygments_lexer": "ipython3",
   "version": "3.9.6"
  }
 },
 "nbformat": 4,
 "nbformat_minor": 5
}
