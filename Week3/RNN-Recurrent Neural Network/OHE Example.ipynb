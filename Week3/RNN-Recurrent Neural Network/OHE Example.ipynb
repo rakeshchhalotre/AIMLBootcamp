{
 "cells": [
  {
   "cell_type": "code",
   "execution_count": 3,
   "metadata": {},
   "outputs": [],
   "source": [
    "import numpy as np\n",
    "from tensorflow.keras.preprocessing.text import Tokenizer"
   ]
  },
  {
   "cell_type": "code",
   "execution_count": 8,
   "metadata": {},
   "outputs": [],
   "source": [
    "docs = ['The dog chewed on a bone',\n",
    "        'I went to the store',\n",
    "        'I saw a cat in the backyard',\n",
    "        'The sun is shining brightly today',\n",
    "        'I saw the cats playing in the park',\n",
    "        'The dog barked loudly ',\n",
    "        'Can you pass me an apple, please?',\n",
    "        'The birds are chirping in the trees',\n",
    "        'The car in the               garage is mine',\n",
    "        'I need to buy an umbrella for the rainy season'\n",
    "        ]"
   ]
  },
  {
   "cell_type": "code",
   "execution_count": 9,
   "metadata": {},
   "outputs": [
    {
     "data": {
      "text/plain": [
       "{'<ukn>': 1,\n",
       " 'the': 2,\n",
       " 'i': 3,\n",
       " 'in': 4,\n",
       " 'dog': 5,\n",
       " 'a': 6,\n",
       " 'to': 7,\n",
       " 'saw': 8,\n",
       " 'is': 9,\n",
       " 'an': 10,\n",
       " 'chewed': 11,\n",
       " 'on': 12,\n",
       " 'bone': 13,\n",
       " 'went': 14,\n",
       " 'store': 15,\n",
       " 'cat': 16,\n",
       " 'backyard': 17,\n",
       " 'sun': 18,\n",
       " 'shining': 19,\n",
       " 'brightly': 20,\n",
       " 'today': 21,\n",
       " 'cats': 22,\n",
       " 'playing': 23,\n",
       " 'park': 24,\n",
       " 'barked': 25,\n",
       " 'loudly': 26,\n",
       " 'can': 27,\n",
       " 'you': 28,\n",
       " 'pass': 29,\n",
       " 'me': 30,\n",
       " 'apple': 31,\n",
       " 'please': 32,\n",
       " 'birds': 33,\n",
       " 'are': 34,\n",
       " 'chirping': 35,\n",
       " 'trees': 36,\n",
       " 'car': 37,\n",
       " 'garage': 38,\n",
       " 'mine': 39,\n",
       " 'need': 40,\n",
       " 'buy': 41,\n",
       " 'umbrella': 42,\n",
       " 'for': 43,\n",
       " 'rainy': 44,\n",
       " 'season': 45}"
      ]
     },
     "execution_count": 9,
     "metadata": {},
     "output_type": "execute_result"
    }
   ],
   "source": [
    "tokenizer = Tokenizer(oov_token='<ukn>')\n",
    "\n",
    "tokenizer.fit_on_texts(docs)\n",
    "\n",
    "tokenizer.word_index"
   ]
  },
  {
   "cell_type": "code",
   "execution_count": 10,
   "metadata": {},
   "outputs": [
    {
     "data": {
      "text/plain": [
       "OrderedDict([('the', 12),\n",
       "             ('dog', 2),\n",
       "             ('chewed', 1),\n",
       "             ('on', 1),\n",
       "             ('a', 2),\n",
       "             ('bone', 1),\n",
       "             ('i', 4),\n",
       "             ('went', 1),\n",
       "             ('to', 2),\n",
       "             ('store', 1),\n",
       "             ('saw', 2),\n",
       "             ('cat', 1),\n",
       "             ('in', 4),\n",
       "             ('backyard', 1),\n",
       "             ('sun', 1),\n",
       "             ('is', 2),\n",
       "             ('shining', 1),\n",
       "             ('brightly', 1),\n",
       "             ('today', 1),\n",
       "             ('cats', 1),\n",
       "             ('playing', 1),\n",
       "             ('park', 1),\n",
       "             ('barked', 1),\n",
       "             ('loudly', 1),\n",
       "             ('can', 1),\n",
       "             ('you', 1),\n",
       "             ('pass', 1),\n",
       "             ('me', 1),\n",
       "             ('an', 2),\n",
       "             ('apple', 1),\n",
       "             ('please', 1),\n",
       "             ('birds', 1),\n",
       "             ('are', 1),\n",
       "             ('chirping', 1),\n",
       "             ('trees', 1),\n",
       "             ('car', 1),\n",
       "             ('garage', 1),\n",
       "             ('mine', 1),\n",
       "             ('need', 1),\n",
       "             ('buy', 1),\n",
       "             ('umbrella', 1),\n",
       "             ('for', 1),\n",
       "             ('rainy', 1),\n",
       "             ('season', 1)])"
      ]
     },
     "execution_count": 10,
     "metadata": {},
     "output_type": "execute_result"
    }
   ],
   "source": [
    "tokenizer.word_counts"
   ]
  },
  {
   "cell_type": "code",
   "execution_count": 11,
   "metadata": {},
   "outputs": [
    {
     "data": {
      "text/plain": [
       "[[2, 5, 11, 12, 6, 13],\n",
       " [3, 14, 7, 2, 15],\n",
       " [3, 8, 6, 16, 4, 2, 17],\n",
       " [2, 18, 9, 19, 20, 21],\n",
       " [3, 8, 2, 22, 23, 4, 2, 24],\n",
       " [2, 5, 25, 26],\n",
       " [27, 28, 29, 30, 10, 31, 32],\n",
       " [2, 33, 34, 35, 4, 2, 36],\n",
       " [2, 37, 4, 2, 38, 9, 39],\n",
       " [3, 40, 7, 41, 10, 42, 43, 2, 44, 45]]"
      ]
     },
     "execution_count": 11,
     "metadata": {},
     "output_type": "execute_result"
    }
   ],
   "source": [
    "sequence = tokenizer.texts_to_sequences(docs)\n",
    "\n",
    "sequence"
   ]
  }
 ],
 "metadata": {
  "language_info": {
   "name": "python"
  }
 },
 "nbformat": 4,
 "nbformat_minor": 2
}
