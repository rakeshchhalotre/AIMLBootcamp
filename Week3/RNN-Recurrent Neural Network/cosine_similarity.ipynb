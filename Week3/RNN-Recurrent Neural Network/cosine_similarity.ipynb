{
 "cells": [
  {
   "cell_type": "code",
   "execution_count": 6,
   "metadata": {},
   "outputs": [
    {
     "name": "stdout",
     "output_type": "stream",
     "text": [
      "['this', 'is', 'a', 'foo', 'bar', 'sentence.'] ['this', 'sentence', 'is', 'similar', 'to', 'a', 'foo', 'bar', 'sentence.']\n",
      "{'this': 1, 'is': 1, 'a': 1, 'foo': 1, 'bar': 1, 'sentence.': 1} {'this': 1, 'sentence': 1, 'is': 1, 'similar': 1, 'to': 1, 'a': 1, 'foo': 1, 'bar': 1, 'sentence.': 1}\n",
      "Cosine similarity: 0.816496580927726\n"
     ]
    }
   ],
   "source": [
    "def tokenize(sentence):\n",
    "    return sentence.lower().split()\n",
    "\n",
    "def term_frequency(sentence):\n",
    "    tf = {}\n",
    "    for word in sentence:\n",
    "        if word not in tf:\n",
    "            tf[word] = 0\n",
    "        tf[word] += 1\n",
    "    return tf\n",
    "\n",
    "def dot_product(vec1, vec2):\n",
    "    return sum((vec1.get(f, 0) * vec2.get(f, 0) for f in set(vec1.keys()).union(set(vec2.keys()))))\n",
    "\n",
    "def magnitude(vec):\n",
    "    return sum((vec.get(f, 0)**2 for f in vec))\n",
    "\n",
    "def cosine_similarity(vec1, vec2):\n",
    "    return dot_product(vec1, vec2) / ((magnitude(vec1) * magnitude(vec2))**0.5)\n",
    "\n",
    "# Define the sentences\n",
    "sentence1 = \"This is a foo bar sentence.\"\n",
    "sentence2 = \"This sentence is similar to a foo bar sentence.\"\n",
    "\n",
    "# Tokenize the sentences\n",
    "tokens1 = tokenize(sentence1)\n",
    "tokens2 = tokenize(sentence2)\n",
    "\n",
    "print(tokens1, tokens2)\n",
    "\n",
    "# Create the term frequency vectors\n",
    "tf1 = term_frequency(tokens1)\n",
    "tf2 = term_frequency(tokens2)\n",
    "\n",
    "print(tf1, tf2)\n",
    "\n",
    "# Compute Cosine Similarity\n",
    "cosine_sim = cosine_similarity(tf1, tf2)\n",
    "\n",
    "print(f\"Cosine similarity: {cosine_sim}\")"
   ]
  },
  {
   "cell_type": "code",
   "execution_count": 4,
   "id": "8fac31b0",
   "metadata": {},
   "outputs": [
    {
     "name": "stdout",
     "output_type": "stream",
     "text": [
      "  (0, 1)\t0.5773502691896258\n",
      "  (0, 0)\t0.5773502691896258\n",
      "  (0, 2)\t0.5773502691896258\n",
      "  (1, 1)\t0.3540997415957358\n",
      "  (1, 0)\t0.3540997415957358\n",
      "  (1, 2)\t0.7081994831914716\n",
      "  (1, 3)\t0.4976748316029239\n",
      "Cosine similarity: 0.8177583245211001\n"
     ]
    }
   ],
   "source": [
    "from sklearn.feature_extraction.text import TfidfVectorizer\n",
    "from sklearn.metrics.pairwise import cosine_similarity\n",
    "\n",
    "# Define the sentences\n",
    "sentence1 = \"This is a foo bar sentence.\"\n",
    "sentence2 = \"This sentence is similar to a foo bar sentence.\"\n",
    "\n",
    "# Create the Document Term Matrix\n",
    "vectorizer = TfidfVectorizer(stop_words='english')\n",
    "tfidf_matrix = vectorizer.fit_transform([sentence1, sentence2])\n",
    "\n",
    "# Compute Cosine Similarity\n",
    "cosine_sim = cosine_similarity(tfidf_matrix[0:1], tfidf_matrix[1:2])\n",
    "\n",
    "print(f\"Cosine similarity: {cosine_sim[0][0]}\")"
   ]
  }
 ],
 "metadata": {
  "kernelspec": {
   "display_name": "Python 3",
   "language": "python",
   "name": "python3"
  },
  "language_info": {
   "codemirror_mode": {
    "name": "ipython",
    "version": 3
   },
   "file_extension": ".py",
   "mimetype": "text/x-python",
   "name": "python",
   "nbconvert_exporter": "python",
   "pygments_lexer": "ipython3",
   "version": "3.9.6"
  }
 },
 "nbformat": 4,
 "nbformat_minor": 5
}
