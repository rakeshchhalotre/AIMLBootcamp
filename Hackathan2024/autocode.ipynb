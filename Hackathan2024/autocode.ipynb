{
 "cells": [
  {
   "cell_type": "code",
   "execution_count": null,
   "metadata": {},
   "outputs": [],
   "source": []
  },
  {
   "cell_type": "code",
   "execution_count": null,
   "metadata": {},
   "outputs": [],
   "source": [
    "# Python code for AutoCode.ipynb\n",
    " # Python code for AutoCode.ipynb   by Copilot\n",
    "\n",
    "# Step 1: Import Libraries\n",
    "import pandas as pd\n",
    "from sklearn.model_selection import train_test_split\n",
    "from sklearn.preprocessing import LabelEncoder\n",
    "from sklearn.ensemble import RandomForestClassifier\n",
    "from sklearn.metrics import accuracy_score, classification_report\n",
    "import joblib\n",
    "\n",
    "# Step 2: Load Dataset\n",
    "df = pd.read_csv('rba-dataset-2.csv')\n",
    "df.rename(columns = {'Login Timestamp': 'LoginTimestamp', 'User ID': 'UserID', 'IP Address':'IPAddress', 'User Agent String': 'UserAgent', 'Browser Name and Version':'BrowserNameAndVersion', 'OS Name and Version':'OSNameAndVersion', 'Device Type':'DeviceType', 'Login Successful':'IsLoginSuccessful', 'Is Attack IP':'IsIPAttack', 'Is Account Takeover':'IsAccountTakeover' }, inplace = True)  \n",
    " \n",
    "# Step 3: Data Preprocessing\n",
    "# Handle missing values (if any)\n",
    "df = df.drop('Round-Trip Time [ms]', axis=1) \n",
    "df = df.drop('Region', axis=1) \n",
    "df = df.drop('City', axis=1) \n",
    "df = df.dropna()\n",
    "\n",
    "# Encode categorical variables\n",
    "label_encoders = {}\n",
    "for column in df.select_dtypes(include=['object']).columns:\n",
    "    label_encoders[column] = LabelEncoder()\n",
    "    df[column] = label_encoders[column].fit_transform(df[column])\n",
    "\n",
    "# Split data into features and target variable\n",
    "Xx = df.drop('IsAccountTakeover', axis=1)  # Replace 'target_column' with the actual target column name\n",
    "yx = df['IsAccountTakeover']  # Replace 'target_column' with the actual target column name\n",
    "\n",
    "# Step 4: Split Data\n",
    "Xx_train, Xx_test, yx_train, yx_test = train_test_split(Xx, yx, test_size=0.2, random_state=42)\n",
    "\n",
    "# Step 5: Train Model\n",
    "modelx = RandomForestClassifier(random_state=42)\n",
    "modelx.fit(Xx_train, yx_train)\n",
    "\n",
    "# Step 6: Evaluate Model\n",
    "yx_pred = modelx.predict(Xx_test)\n",
    "print(\"Accuracy:\", accuracy_score(yx_test, yx_pred))\n",
    "print(\"Classification Report:\\n\", classification_report(yx_test, yx_pred))\n",
    "\n",
    "\n"
   ]
  },
  {
   "cell_type": "code",
   "execution_count": null,
   "metadata": {},
   "outputs": [],
   "source": [
    "\n",
    "\n",
    "# Step 7: Test Model with rendom data\n",
    "# Check for the input variable \n",
    "dfTackOver = df[df.IsAccountTakeover == 1]  \n",
    "dfList = dfTackOver.drop('IsAccountTakeover', axis=1) \n",
    "dfToTest = dfList.sample() \n",
    "answer = model.predict(dfToTest) \n",
    "print(answer)\n",
    "dfToTest"
   ]
  },
  {
   "cell_type": "code",
   "execution_count": null,
   "metadata": {},
   "outputs": [],
   "source": [
    "\n",
    "# Step 8: Save Model\n",
    "joblib.dump(model, 'rba_model.pkl')\n",
    "joblib.dump(model, 'rba_model.joblib')"
   ]
  },
  {
   "cell_type": "code",
   "execution_count": null,
   "metadata": {},
   "outputs": [],
   "source": [
    "\n",
    "# load the saved model\n",
    "reg = joblib.load('rba_model.joblib')  \n",
    "\n",
    "# use the loaded model to make predictions\n",
    "predictions = reg.predict(X_test)\n",
    "predictions\n",
    "#import csv"
   ]
  }
 ],
 "metadata": {
  "kernelspec": {
   "display_name": "Python 3",
   "language": "python",
   "name": "python3"
  },
  "language_info": {
   "name": "python",
   "version": "3.11.9"
  }
 },
 "nbformat": 4,
 "nbformat_minor": 2
}
