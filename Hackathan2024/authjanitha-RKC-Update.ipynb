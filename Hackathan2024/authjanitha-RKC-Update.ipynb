{
 "cells": [
  {
   "cell_type": "code",
   "execution_count": 1,
   "id": "44e10ce9",
   "metadata": {
    "_cell_guid": "b1076dfc-b9ad-4769-8c92-a6c4dae69d19",
    "_uuid": "8f2839f25d086af736a60e9eeb907d3b93b6e0e5",
    "execution": {
     "iopub.execute_input": "2024-06-11T09:19:04.924768Z",
     "iopub.status.busy": "2024-06-11T09:19:04.924397Z",
     "iopub.status.idle": "2024-06-11T09:19:05.840023Z",
     "shell.execute_reply": "2024-06-11T09:19:05.838561Z"
    },
    "papermill": {
     "duration": 0.930109,
     "end_time": "2024-06-11T09:19:05.842454",
     "exception": false,
     "start_time": "2024-06-11T09:19:04.912345",
     "status": "completed"
    },
    "tags": []
   },
   "outputs": [
    {
     "name": "stdout",
     "output_type": "stream",
     "text": [
      "/kaggle/input/rba-dataset/LICENSE\n",
      "/kaggle/input/rba-dataset/README.md\n",
      "/kaggle/input/rba-dataset/RESULTS.md\n",
      "/kaggle/input/rba-dataset/rba-dataset.csv\n",
      "/kaggle/input/rba-dataset/images/rq1-general.png\n",
      "/kaggle/input/rba-dataset/images/rq1-login-frequency.png\n",
      "/kaggle/input/rba-dataset/images/rtts-global.png\n",
      "/kaggle/input/rba-dataset/images/login-overview.png\n",
      "/kaggle/input/rba-dataset/images/rtts-continents.png\n",
      "/kaggle/input/rba-dataset/images/rq6-rtt-0_999.png\n",
      "/kaggle/input/rba-dataset/images/rq2-attack-data.png\n"
     ]
    }
   ],
   "source": [
    "# This Python 3 environment comes with many helpful analytics libraries installed\n",
    "# It is defined by the kaggle/python Docker image: https://github.com/kaggle/docker-python\n",
    "# For example, here's several helpful packages to load\n",
    "\n",
    "import numpy as np # linear algebra\n",
    "import pandas as pd # data processing, CSV file I/O (e.g. pd.read_csv)\n",
    "\n",
    "# Input data files are available in the read-only \"../input/\" directory\n",
    "# For example, running this (by clicking run or pressing Shift+Enter) will list all files under the input directory\n",
    "\n",
    "import os\n",
    "for dirname, _, filenames in os.walk('/kaggle/input'):\n",
    "    for filename in filenames:\n",
    "        print(os.path.join(dirname, filename))\n",
    "\n",
    "# You can write up to 20GB to the current directory (/kaggle/working/) that gets preserved as output when you create a version using \"Save & Run All\" \n",
    "# You can also write temporary files to /kaggle/temp/, but they won't be saved outside of the current session"
   ]
  },
  {
   "cell_type": "code",
   "execution_count": 2,
   "id": "ac7b4b35",
   "metadata": {
    "execution": {
     "iopub.execute_input": "2024-06-11T09:19:05.888980Z",
     "iopub.status.busy": "2024-06-11T09:19:05.888457Z",
     "iopub.status.idle": "2024-06-11T09:19:08.782659Z",
     "shell.execute_reply": "2024-06-11T09:19:08.781602Z"
    },
    "papermill": {
     "duration": 2.909269,
     "end_time": "2024-06-11T09:19:08.785389",
     "exception": false,
     "start_time": "2024-06-11T09:19:05.876120",
     "status": "completed"
    },
    "tags": []
   },
   "outputs": [],
   "source": [
    "import numpy as np\n",
    "import pandas as pd\n",
    "from sklearn.model_selection import train_test_split\n",
    "from sklearn.linear_model import LogisticRegression\n",
    "from sklearn.tree import DecisionTreeClassifier\n",
    "from sklearn.svm import SVC\n",
    "from sklearn.ensemble import RandomForestClassifier\n",
    "from sklearn.neighbors import KNeighborsClassifier\n",
    "from sklearn.preprocessing import StandardScaler, OneHotEncoder\n",
    "from sklearn.impute import SimpleImputer\n",
    "from sklearn.compose import ColumnTransformer\n",
    "from sklearn.metrics import roc_auc_score, roc_curve, confusion_matrix\n",
    "from sklearn.pipeline import Pipeline\n",
    "import matplotlib.pyplot as plt\n",
    "import ipaddress\n",
    "from sklearn.ensemble import AdaBoostClassifier, ExtraTreesClassifier\n",
    "from xgboost import XGBClassifier\n",
    "from lightgbm import LGBMClassifier"
   ]
  },
  {
   "cell_type": "code",
   "execution_count": 3,
   "id": "240ba5f2",
   "metadata": {
    "execution": {
     "iopub.execute_input": "2024-06-11T09:19:08.809653Z",
     "iopub.status.busy": "2024-06-11T09:19:08.809106Z",
     "iopub.status.idle": "2024-06-11T09:19:17.040693Z",
     "shell.execute_reply": "2024-06-11T09:19:17.039632Z"
    },
    "papermill": {
     "duration": 8.246906,
     "end_time": "2024-06-11T09:19:17.043332",
     "exception": false,
     "start_time": "2024-06-11T09:19:08.796426",
     "status": "completed"
    },
    "tags": []
   },
   "outputs": [],
   "source": [
    "data = pd.read_csv('rba-dataset-2.csv', nrows=1000000)"
   ]
  },
  {
   "cell_type": "code",
   "execution_count": 4,
   "id": "26db7cd8",
   "metadata": {
    "execution": {
     "iopub.execute_input": "2024-06-11T09:19:17.067061Z",
     "iopub.status.busy": "2024-06-11T09:19:17.066632Z",
     "iopub.status.idle": "2024-06-11T09:23:19.311763Z",
     "shell.execute_reply": "2024-06-11T09:23:19.310611Z"
    },
    "papermill": {
     "duration": 242.25996,
     "end_time": "2024-06-11T09:23:19.314376",
     "exception": false,
     "start_time": "2024-06-11T09:19:17.054416",
     "status": "completed"
    },
    "tags": []
   },
   "outputs": [
    {
     "name": "stdout",
     "output_type": "stream",
     "text": [
      "SSs\n",
      "SSs\n",
      "SSs\n",
      "SSs\n",
      "SSs\n",
      "SSs\n",
      "SSs\n",
      "SSs\n",
      "SSs\n",
      "SSs\n",
      "SSs\n",
      "SSs\n",
      "SSs\n",
      "SSs\n",
      "SSs\n",
      "SSs\n",
      "SSs\n",
      "SSs\n",
      "SSs\n",
      "SSs\n",
      "SSs\n",
      "SSs\n",
      "SSs\n",
      "SSs\n",
      "SSs\n",
      "SSs\n",
      "SSs\n",
      "SSs\n",
      "SSs\n",
      "SSs\n",
      "SSs\n",
      "SSs\n"
     ]
    }
   ],
   "source": [
    "# Specify the chunk size\n",
    "chunk_size = 1000000  # Adjust based on your memory limits\n",
    "\n",
    "# Initialize an empty list to store the data\n",
    "chunks = []\n",
    "\n",
    "# Read the CSV file in chunks\n",
    "for chunk in pd.read_csv('rba-dataset-2.csv', chunksize=chunk_size):\n",
    "    chunks.append(chunk)\n",
    "    print(\"SSs\")\n",
    "\n",
    "# Concatenate all chunks into a single DataFrame\n",
    "data = pd.concat(chunks, axis=0)"
   ]
  },
  {
   "cell_type": "code",
   "execution_count": null,
   "id": "14c32531",
   "metadata": {},
   "outputs": [],
   "source": [
    "data.rename(columns = {'Login Timestamp': 'LoginTimestamp', 'User ID': 'UserID', 'IP Address':'IPAddress', 'User Agent String': 'UserAgent', 'Browser Name and Version':'BrowserNameAndVersion', 'OS Name and Version':'OSNameAndVersion', 'Device Type':'DeviceType', 'Login Successful':'IsLoginSuccessful', 'Is Attack IP':'IsIPAttack', 'Is Account Takeover':'IsAccountTakeover', 'Login Hour':'LoginHour' }, inplace = True)  "
   ]
  },
  {
   "cell_type": "code",
   "execution_count": null,
   "id": "fc001550",
   "metadata": {},
   "outputs": [],
   "source": [
    "len(data)"
   ]
  },
  {
   "cell_type": "code",
   "execution_count": 5,
   "id": "caf46dcf",
   "metadata": {
    "execution": {
     "iopub.execute_input": "2024-06-11T09:23:19.342610Z",
     "iopub.status.busy": "2024-06-11T09:23:19.342204Z",
     "iopub.status.idle": "2024-06-11T09:23:19.374466Z",
     "shell.execute_reply": "2024-06-11T09:23:19.373282Z"
    },
    "papermill": {
     "duration": 0.049518,
     "end_time": "2024-06-11T09:23:19.376998",
     "exception": false,
     "start_time": "2024-06-11T09:23:19.327480",
     "status": "completed"
    },
    "tags": []
   },
   "outputs": [
    {
     "data": {
      "text/html": [
       "<div>\n",
       "<style scoped>\n",
       "    .dataframe tbody tr th:only-of-type {\n",
       "        vertical-align: middle;\n",
       "    }\n",
       "\n",
       "    .dataframe tbody tr th {\n",
       "        vertical-align: top;\n",
       "    }\n",
       "\n",
       "    .dataframe thead th {\n",
       "        text-align: right;\n",
       "    }\n",
       "</style>\n",
       "<table border=\"1\" class=\"dataframe\">\n",
       "  <thead>\n",
       "    <tr style=\"text-align: right;\">\n",
       "      <th></th>\n",
       "      <th>index</th>\n",
       "      <th>Login Timestamp</th>\n",
       "      <th>User ID</th>\n",
       "      <th>Round-Trip Time [ms]</th>\n",
       "      <th>IP Address</th>\n",
       "      <th>Country</th>\n",
       "      <th>Region</th>\n",
       "      <th>City</th>\n",
       "      <th>ASN</th>\n",
       "      <th>User Agent String</th>\n",
       "      <th>Browser Name and Version</th>\n",
       "      <th>OS Name and Version</th>\n",
       "      <th>Device Type</th>\n",
       "      <th>Login Successful</th>\n",
       "      <th>Is Attack IP</th>\n",
       "      <th>Is Account Takeover</th>\n",
       "    </tr>\n",
       "  </thead>\n",
       "  <tbody>\n",
       "    <tr>\n",
       "      <th>0</th>\n",
       "      <td>0</td>\n",
       "      <td>2020-02-03 12:43:30.772</td>\n",
       "      <td>-4324475583306591935</td>\n",
       "      <td>NaN</td>\n",
       "      <td>10.0.65.171</td>\n",
       "      <td>NO</td>\n",
       "      <td>-</td>\n",
       "      <td>-</td>\n",
       "      <td>29695</td>\n",
       "      <td>Mozilla/5.0  (iPhone; CPU iPhone OS 13_4 like ...</td>\n",
       "      <td>Firefox 20.0.0.1618</td>\n",
       "      <td>iOS 13.4</td>\n",
       "      <td>mobile</td>\n",
       "      <td>False</td>\n",
       "      <td>False</td>\n",
       "      <td>False</td>\n",
       "    </tr>\n",
       "    <tr>\n",
       "      <th>1</th>\n",
       "      <td>1</td>\n",
       "      <td>2020-02-03 12:43:43.549</td>\n",
       "      <td>-4324475583306591935</td>\n",
       "      <td>NaN</td>\n",
       "      <td>194.87.207.6</td>\n",
       "      <td>AU</td>\n",
       "      <td>-</td>\n",
       "      <td>-</td>\n",
       "      <td>60117</td>\n",
       "      <td>Mozilla/5.0  (Linux; Android 4.1; Galaxy Nexus...</td>\n",
       "      <td>Chrome Mobile 46.0.2490</td>\n",
       "      <td>Android 4.1</td>\n",
       "      <td>mobile</td>\n",
       "      <td>False</td>\n",
       "      <td>False</td>\n",
       "      <td>False</td>\n",
       "    </tr>\n",
       "    <tr>\n",
       "      <th>2</th>\n",
       "      <td>2</td>\n",
       "      <td>2020-02-03 12:43:55.873</td>\n",
       "      <td>-3284137479262433373</td>\n",
       "      <td>NaN</td>\n",
       "      <td>81.167.144.58</td>\n",
       "      <td>NO</td>\n",
       "      <td>Vestland</td>\n",
       "      <td>Urangsvag</td>\n",
       "      <td>29695</td>\n",
       "      <td>Mozilla/5.0  (iPad; CPU OS 7_1 like Mac OS X) ...</td>\n",
       "      <td>Android 2.3.3.2672</td>\n",
       "      <td>iOS 7.1</td>\n",
       "      <td>mobile</td>\n",
       "      <td>True</td>\n",
       "      <td>False</td>\n",
       "      <td>False</td>\n",
       "    </tr>\n",
       "    <tr>\n",
       "      <th>3</th>\n",
       "      <td>3</td>\n",
       "      <td>2020-02-03 12:43:56.180</td>\n",
       "      <td>-4324475583306591935</td>\n",
       "      <td>NaN</td>\n",
       "      <td>170.39.78.152</td>\n",
       "      <td>US</td>\n",
       "      <td>-</td>\n",
       "      <td>-</td>\n",
       "      <td>393398</td>\n",
       "      <td>Mozilla/5.0  (Linux; Android 4.1; Galaxy Nexus...</td>\n",
       "      <td>Chrome Mobile WebView 85.0.4183</td>\n",
       "      <td>Android 4.1</td>\n",
       "      <td>mobile</td>\n",
       "      <td>False</td>\n",
       "      <td>False</td>\n",
       "      <td>False</td>\n",
       "    </tr>\n",
       "    <tr>\n",
       "      <th>4</th>\n",
       "      <td>4</td>\n",
       "      <td>2020-02-03 12:43:59.396</td>\n",
       "      <td>-4618854071942621186</td>\n",
       "      <td>NaN</td>\n",
       "      <td>10.0.0.47</td>\n",
       "      <td>US</td>\n",
       "      <td>Virginia</td>\n",
       "      <td>Ashburn</td>\n",
       "      <td>398986</td>\n",
       "      <td>Mozilla/5.0  (Linux; U; Android 2.2) Build/NMA...</td>\n",
       "      <td>Chrome Mobile WebView 85.0.4183</td>\n",
       "      <td>Android 2.2</td>\n",
       "      <td>mobile</td>\n",
       "      <td>False</td>\n",
       "      <td>True</td>\n",
       "      <td>False</td>\n",
       "    </tr>\n",
       "  </tbody>\n",
       "</table>\n",
       "</div>"
      ],
      "text/plain": [
       "   index          Login Timestamp              User ID  Round-Trip Time [ms]  \\\n",
       "0      0  2020-02-03 12:43:30.772 -4324475583306591935                   NaN   \n",
       "1      1  2020-02-03 12:43:43.549 -4324475583306591935                   NaN   \n",
       "2      2  2020-02-03 12:43:55.873 -3284137479262433373                   NaN   \n",
       "3      3  2020-02-03 12:43:56.180 -4324475583306591935                   NaN   \n",
       "4      4  2020-02-03 12:43:59.396 -4618854071942621186                   NaN   \n",
       "\n",
       "      IP Address Country    Region       City     ASN  \\\n",
       "0    10.0.65.171      NO         -          -   29695   \n",
       "1   194.87.207.6      AU         -          -   60117   \n",
       "2  81.167.144.58      NO  Vestland  Urangsvag   29695   \n",
       "3  170.39.78.152      US         -          -  393398   \n",
       "4      10.0.0.47      US  Virginia    Ashburn  398986   \n",
       "\n",
       "                                   User Agent String  \\\n",
       "0  Mozilla/5.0  (iPhone; CPU iPhone OS 13_4 like ...   \n",
       "1  Mozilla/5.0  (Linux; Android 4.1; Galaxy Nexus...   \n",
       "2  Mozilla/5.0  (iPad; CPU OS 7_1 like Mac OS X) ...   \n",
       "3  Mozilla/5.0  (Linux; Android 4.1; Galaxy Nexus...   \n",
       "4  Mozilla/5.0  (Linux; U; Android 2.2) Build/NMA...   \n",
       "\n",
       "          Browser Name and Version OS Name and Version Device Type  \\\n",
       "0              Firefox 20.0.0.1618            iOS 13.4      mobile   \n",
       "1          Chrome Mobile 46.0.2490         Android 4.1      mobile   \n",
       "2               Android 2.3.3.2672             iOS 7.1      mobile   \n",
       "3  Chrome Mobile WebView 85.0.4183         Android 4.1      mobile   \n",
       "4  Chrome Mobile WebView 85.0.4183         Android 2.2      mobile   \n",
       "\n",
       "   Login Successful  Is Attack IP  Is Account Takeover  \n",
       "0             False         False                False  \n",
       "1             False         False                False  \n",
       "2              True         False                False  \n",
       "3             False         False                False  \n",
       "4             False          True                False  "
      ]
     },
     "execution_count": 5,
     "metadata": {},
     "output_type": "execute_result"
    }
   ],
   "source": [
    "data.head()"
   ]
  },
  {
   "cell_type": "code",
   "execution_count": 7,
   "id": "a4a8d1e6",
   "metadata": {
    "execution": {
     "iopub.execute_input": "2024-06-11T09:23:19.442370Z",
     "iopub.status.busy": "2024-06-11T09:23:19.441960Z",
     "iopub.status.idle": "2024-06-11T09:23:19.450884Z",
     "shell.execute_reply": "2024-06-11T09:23:19.449811Z"
    },
    "papermill": {
     "duration": 0.025714,
     "end_time": "2024-06-11T09:23:19.453201",
     "exception": false,
     "start_time": "2024-06-11T09:23:19.427487",
     "status": "completed"
    },
    "tags": []
   },
   "outputs": [
    {
     "data": {
      "text/plain": [
       "index                         int64\n",
       "Login Timestamp              object\n",
       "User ID                       int64\n",
       "Round-Trip Time [ms]        float64\n",
       "IP Address                   object\n",
       "Country                      object\n",
       "Region                       object\n",
       "City                         object\n",
       "ASN                           int64\n",
       "User Agent String            object\n",
       "Browser Name and Version     object\n",
       "OS Name and Version          object\n",
       "Device Type                  object\n",
       "Login Successful               bool\n",
       "Is Attack IP                   bool\n",
       "Is Account Takeover            bool\n",
       "dtype: object"
      ]
     },
     "execution_count": 7,
     "metadata": {},
     "output_type": "execute_result"
    }
   ],
   "source": [
    "data.dtypes"
   ]
  },
  {
   "cell_type": "code",
   "execution_count": 8,
   "id": "9f491ebf",
   "metadata": {
    "execution": {
     "iopub.execute_input": "2024-06-11T09:23:19.481922Z",
     "iopub.status.busy": "2024-06-11T09:23:19.481489Z",
     "iopub.status.idle": "2024-06-11T09:23:19.506172Z",
     "shell.execute_reply": "2024-06-11T09:23:19.505103Z"
    },
    "papermill": {
     "duration": 0.042525,
     "end_time": "2024-06-11T09:23:19.509063",
     "exception": false,
     "start_time": "2024-06-11T09:23:19.466538",
     "status": "completed"
    },
    "tags": []
   },
   "outputs": [
    {
     "name": "stdout",
     "output_type": "stream",
     "text": [
      "<class 'pandas.core.frame.DataFrame'>\n",
      "RangeIndex: 31269264 entries, 0 to 31269263\n",
      "Data columns (total 16 columns):\n",
      " #   Column                    Dtype  \n",
      "---  ------                    -----  \n",
      " 0   index                     int64  \n",
      " 1   Login Timestamp           object \n",
      " 2   User ID                   int64  \n",
      " 3   Round-Trip Time [ms]      float64\n",
      " 4   IP Address                object \n",
      " 5   Country                   object \n",
      " 6   Region                    object \n",
      " 7   City                      object \n",
      " 8   ASN                       int64  \n",
      " 9   User Agent String         object \n",
      " 10  Browser Name and Version  object \n",
      " 11  OS Name and Version       object \n",
      " 12  Device Type               object \n",
      " 13  Login Successful          bool   \n",
      " 14  Is Attack IP              bool   \n",
      " 15  Is Account Takeover       bool   \n",
      "dtypes: bool(3), float64(1), int64(3), object(9)\n",
      "memory usage: 3.1+ GB\n"
     ]
    }
   ],
   "source": [
    "data.info()"
   ]
  },
  {
   "cell_type": "code",
   "execution_count": 9,
   "id": "d63eb99d",
   "metadata": {
    "execution": {
     "iopub.execute_input": "2024-06-11T09:23:19.537955Z",
     "iopub.status.busy": "2024-06-11T09:23:19.537542Z",
     "iopub.status.idle": "2024-06-11T09:23:19.557973Z",
     "shell.execute_reply": "2024-06-11T09:23:19.556936Z"
    },
    "papermill": {
     "duration": 0.03754,
     "end_time": "2024-06-11T09:23:19.560479",
     "exception": false,
     "start_time": "2024-06-11T09:23:19.522939",
     "status": "completed"
    },
    "tags": []
   },
   "outputs": [
    {
     "data": {
      "text/plain": [
       "<bound method NDFrame.describe of              index          Login Timestamp              User ID  \\\n",
       "0                0  2020-02-03 12:43:30.772 -4324475583306591935   \n",
       "1                1  2020-02-03 12:43:43.549 -4324475583306591935   \n",
       "2                2  2020-02-03 12:43:55.873 -3284137479262433373   \n",
       "3                3  2020-02-03 12:43:56.180 -4324475583306591935   \n",
       "4                4  2020-02-03 12:43:59.396 -4618854071942621186   \n",
       "...            ...                      ...                  ...   \n",
       "31269259  31269259  2021-02-28 23:59:47.766 -4324475583306591935   \n",
       "31269260  31269260  2021-02-28 23:59:49.956 -4324475583306591935   \n",
       "31269261  31269261  2021-02-28 23:59:54.233 -4324475583306591935   \n",
       "31269262  31269262  2021-02-28 23:59:56.343 -4324475583306591935   \n",
       "31269263  31269263  2021-02-28 23:59:58.756 -3863191272176615105   \n",
       "\n",
       "          Round-Trip Time [ms]     IP Address Country          Region  \\\n",
       "0                          NaN    10.0.65.171      NO               -   \n",
       "1                          NaN   194.87.207.6      AU               -   \n",
       "2                          NaN  81.167.144.58      NO        Vestland   \n",
       "3                          NaN  170.39.78.152      US               -   \n",
       "4                          NaN      10.0.0.47      US        Virginia   \n",
       "...                        ...            ...     ...             ...   \n",
       "31269259                   NaN  170.39.78.106      US               -   \n",
       "31269260                   NaN  170.39.79.123      US               -   \n",
       "31269261                   NaN  170.39.78.106      US               -   \n",
       "31269262                   NaN   10.3.205.188      RU  St.-Petersburg   \n",
       "31269263                   NaN  156.52.189.92      NO           Viken   \n",
       "\n",
       "                   City     ASN  \\\n",
       "0                     -   29695   \n",
       "1                     -   60117   \n",
       "2             Urangsvag   29695   \n",
       "3                     -  393398   \n",
       "4               Ashburn  398986   \n",
       "...                 ...     ...   \n",
       "31269259              -  393398   \n",
       "31269260              -  393398   \n",
       "31269261              -  393398   \n",
       "31269262  St Petersburg   15599   \n",
       "31269263    Fredrikstad   29695   \n",
       "\n",
       "                                          User Agent String  \\\n",
       "0         Mozilla/5.0  (iPhone; CPU iPhone OS 13_4 like ...   \n",
       "1         Mozilla/5.0  (Linux; Android 4.1; Galaxy Nexus...   \n",
       "2         Mozilla/5.0  (iPad; CPU OS 7_1 like Mac OS X) ...   \n",
       "3         Mozilla/5.0  (Linux; Android 4.1; Galaxy Nexus...   \n",
       "4         Mozilla/5.0  (Linux; U; Android 2.2) Build/NMA...   \n",
       "...                                                     ...   \n",
       "31269259       AwarioSmartBot/1.0  (en-us) variation/294820   \n",
       "31269260  Mozilla/5.0  (iPhone; CPU iPhone OS 11_2_6 lik...   \n",
       "31269261       AwarioSmartBot/1.0  (en-us) variation/294820   \n",
       "31269262  ZipppBot/0.11 (ZipppBot; https://github.com/da...   \n",
       "31269263  Mozilla/5.0 (Macintosh; Intel Mac OS X 10_14_6...   \n",
       "\n",
       "                 Browser Name and Version OS Name and Version Device Type  \\\n",
       "0                     Firefox 20.0.0.1618            iOS 13.4      mobile   \n",
       "1                 Chrome Mobile 46.0.2490         Android 4.1      mobile   \n",
       "2                      Android 2.3.3.2672             iOS 7.1      mobile   \n",
       "3         Chrome Mobile WebView 85.0.4183         Android 4.1      mobile   \n",
       "4         Chrome Mobile WebView 85.0.4183         Android 2.2      mobile   \n",
       "...                                   ...                 ...         ...   \n",
       "31269259               AwarioSmartBot 1.0              Other      unknown   \n",
       "31269260  Chrome Mobile WebView 80.0.3987          iOS 11.2.6      mobile   \n",
       "31269261               AwarioSmartBot 1.0              Other      unknown   \n",
       "31269262                    ZipppBot 0.11              Other          bot   \n",
       "31269263           Chrome 69.0.3497.17.24    Mac OS X 10.14.6     desktop   \n",
       "\n",
       "          Login Successful  Is Attack IP  Is Account Takeover  \n",
       "0                    False         False                False  \n",
       "1                    False         False                False  \n",
       "2                     True         False                False  \n",
       "3                    False         False                False  \n",
       "4                    False          True                False  \n",
       "...                    ...           ...                  ...  \n",
       "31269259             False         False                False  \n",
       "31269260             False         False                False  \n",
       "31269261             False         False                False  \n",
       "31269262             False         False                False  \n",
       "31269263              True         False                False  \n",
       "\n",
       "[31269264 rows x 16 columns]>"
      ]
     },
     "execution_count": 9,
     "metadata": {},
     "output_type": "execute_result"
    }
   ],
   "source": [
    "data.describe"
   ]
  },
  {
   "cell_type": "code",
   "execution_count": 10,
   "id": "2f832e80",
   "metadata": {
    "execution": {
     "iopub.execute_input": "2024-06-11T09:23:19.589644Z",
     "iopub.status.busy": "2024-06-11T09:23:19.589286Z",
     "iopub.status.idle": "2024-06-11T09:23:32.902953Z",
     "shell.execute_reply": "2024-06-11T09:23:32.901847Z"
    },
    "papermill": {
     "duration": 13.331071,
     "end_time": "2024-06-11T09:23:32.905418",
     "exception": false,
     "start_time": "2024-06-11T09:23:19.574347",
     "status": "completed"
    },
    "tags": []
   },
   "outputs": [
    {
     "data": {
      "text/plain": [
       "index                              0\n",
       "Login Timestamp                    0\n",
       "User ID                            0\n",
       "Round-Trip Time [ms]        29993329\n",
       "IP Address                         0\n",
       "Country                            0\n",
       "Region                         47409\n",
       "City                            8590\n",
       "ASN                                0\n",
       "User Agent String                  0\n",
       "Browser Name and Version           0\n",
       "OS Name and Version                0\n",
       "Device Type                     1526\n",
       "Login Successful                   0\n",
       "Is Attack IP                       0\n",
       "Is Account Takeover                0\n",
       "dtype: int64"
      ]
     },
     "execution_count": 10,
     "metadata": {},
     "output_type": "execute_result"
    }
   ],
   "source": [
    "data.isna().sum()"
   ]
  },
  {
   "cell_type": "code",
   "execution_count": 11,
   "id": "03ac585f",
   "metadata": {
    "execution": {
     "iopub.execute_input": "2024-06-11T09:23:32.934815Z",
     "iopub.status.busy": "2024-06-11T09:23:32.934375Z",
     "iopub.status.idle": "2024-06-11T09:23:44.208572Z",
     "shell.execute_reply": "2024-06-11T09:23:44.207469Z"
    },
    "papermill": {
     "duration": 11.291762,
     "end_time": "2024-06-11T09:23:44.211129",
     "exception": false,
     "start_time": "2024-06-11T09:23:32.919367",
     "status": "completed"
    },
    "tags": []
   },
   "outputs": [],
   "source": [
    "data.head()"
   ]
  },
  {
   "cell_type": "code",
   "execution_count": 12,
   "id": "f9c9392e",
   "metadata": {
    "execution": {
     "iopub.execute_input": "2024-06-11T09:23:44.240387Z",
     "iopub.status.busy": "2024-06-11T09:23:44.240007Z",
     "iopub.status.idle": "2024-06-11T09:23:44.258392Z",
     "shell.execute_reply": "2024-06-11T09:23:44.257230Z"
    },
    "papermill": {
     "duration": 0.035683,
     "end_time": "2024-06-11T09:23:44.260618",
     "exception": false,
     "start_time": "2024-06-11T09:23:44.224935",
     "status": "completed"
    },
    "tags": []
   },
   "outputs": [
    {
     "data": {
      "text/html": [
       "<div>\n",
       "<style scoped>\n",
       "    .dataframe tbody tr th:only-of-type {\n",
       "        vertical-align: middle;\n",
       "    }\n",
       "\n",
       "    .dataframe tbody tr th {\n",
       "        vertical-align: top;\n",
       "    }\n",
       "\n",
       "    .dataframe thead th {\n",
       "        text-align: right;\n",
       "    }\n",
       "</style>\n",
       "<table border=\"1\" class=\"dataframe\">\n",
       "  <thead>\n",
       "    <tr style=\"text-align: right;\">\n",
       "      <th></th>\n",
       "      <th>index</th>\n",
       "      <th>Login Timestamp</th>\n",
       "      <th>User ID</th>\n",
       "      <th>Round-Trip Time [ms]</th>\n",
       "      <th>IP Address</th>\n",
       "      <th>Country</th>\n",
       "      <th>Region</th>\n",
       "      <th>City</th>\n",
       "      <th>ASN</th>\n",
       "      <th>User Agent String</th>\n",
       "      <th>Browser Name and Version</th>\n",
       "      <th>OS Name and Version</th>\n",
       "      <th>Device Type</th>\n",
       "      <th>Login Successful</th>\n",
       "      <th>Is Attack IP</th>\n",
       "      <th>Is Account Takeover</th>\n",
       "      <th>Login Hour</th>\n",
       "    </tr>\n",
       "  </thead>\n",
       "  <tbody>\n",
       "    <tr>\n",
       "      <th>0</th>\n",
       "      <td>0</td>\n",
       "      <td>2020-02-03 12:43:30.772</td>\n",
       "      <td>-4324475583306591935</td>\n",
       "      <td>NaN</td>\n",
       "      <td>10.0.65.171</td>\n",
       "      <td>NO</td>\n",
       "      <td>-</td>\n",
       "      <td>-</td>\n",
       "      <td>29695</td>\n",
       "      <td>Mozilla/5.0  (iPhone; CPU iPhone OS 13_4 like ...</td>\n",
       "      <td>Firefox 20.0.0.1618</td>\n",
       "      <td>iOS 13.4</td>\n",
       "      <td>mobile</td>\n",
       "      <td>False</td>\n",
       "      <td>False</td>\n",
       "      <td>False</td>\n",
       "      <td>12</td>\n",
       "    </tr>\n",
       "    <tr>\n",
       "      <th>1</th>\n",
       "      <td>1</td>\n",
       "      <td>2020-02-03 12:43:43.549</td>\n",
       "      <td>-4324475583306591935</td>\n",
       "      <td>NaN</td>\n",
       "      <td>194.87.207.6</td>\n",
       "      <td>AU</td>\n",
       "      <td>-</td>\n",
       "      <td>-</td>\n",
       "      <td>60117</td>\n",
       "      <td>Mozilla/5.0  (Linux; Android 4.1; Galaxy Nexus...</td>\n",
       "      <td>Chrome Mobile 46.0.2490</td>\n",
       "      <td>Android 4.1</td>\n",
       "      <td>mobile</td>\n",
       "      <td>False</td>\n",
       "      <td>False</td>\n",
       "      <td>False</td>\n",
       "      <td>12</td>\n",
       "    </tr>\n",
       "    <tr>\n",
       "      <th>2</th>\n",
       "      <td>2</td>\n",
       "      <td>2020-02-03 12:43:55.873</td>\n",
       "      <td>-3284137479262433373</td>\n",
       "      <td>NaN</td>\n",
       "      <td>81.167.144.58</td>\n",
       "      <td>NO</td>\n",
       "      <td>Vestland</td>\n",
       "      <td>Urangsvag</td>\n",
       "      <td>29695</td>\n",
       "      <td>Mozilla/5.0  (iPad; CPU OS 7_1 like Mac OS X) ...</td>\n",
       "      <td>Android 2.3.3.2672</td>\n",
       "      <td>iOS 7.1</td>\n",
       "      <td>mobile</td>\n",
       "      <td>True</td>\n",
       "      <td>False</td>\n",
       "      <td>False</td>\n",
       "      <td>12</td>\n",
       "    </tr>\n",
       "    <tr>\n",
       "      <th>3</th>\n",
       "      <td>3</td>\n",
       "      <td>2020-02-03 12:43:56.180</td>\n",
       "      <td>-4324475583306591935</td>\n",
       "      <td>NaN</td>\n",
       "      <td>170.39.78.152</td>\n",
       "      <td>US</td>\n",
       "      <td>-</td>\n",
       "      <td>-</td>\n",
       "      <td>393398</td>\n",
       "      <td>Mozilla/5.0  (Linux; Android 4.1; Galaxy Nexus...</td>\n",
       "      <td>Chrome Mobile WebView 85.0.4183</td>\n",
       "      <td>Android 4.1</td>\n",
       "      <td>mobile</td>\n",
       "      <td>False</td>\n",
       "      <td>False</td>\n",
       "      <td>False</td>\n",
       "      <td>12</td>\n",
       "    </tr>\n",
       "    <tr>\n",
       "      <th>4</th>\n",
       "      <td>4</td>\n",
       "      <td>2020-02-03 12:43:59.396</td>\n",
       "      <td>-4618854071942621186</td>\n",
       "      <td>NaN</td>\n",
       "      <td>10.0.0.47</td>\n",
       "      <td>US</td>\n",
       "      <td>Virginia</td>\n",
       "      <td>Ashburn</td>\n",
       "      <td>398986</td>\n",
       "      <td>Mozilla/5.0  (Linux; U; Android 2.2) Build/NMA...</td>\n",
       "      <td>Chrome Mobile WebView 85.0.4183</td>\n",
       "      <td>Android 2.2</td>\n",
       "      <td>mobile</td>\n",
       "      <td>False</td>\n",
       "      <td>True</td>\n",
       "      <td>False</td>\n",
       "      <td>12</td>\n",
       "    </tr>\n",
       "  </tbody>\n",
       "</table>\n",
       "</div>"
      ],
      "text/plain": [
       "   index          Login Timestamp              User ID  Round-Trip Time [ms]  \\\n",
       "0      0  2020-02-03 12:43:30.772 -4324475583306591935                   NaN   \n",
       "1      1  2020-02-03 12:43:43.549 -4324475583306591935                   NaN   \n",
       "2      2  2020-02-03 12:43:55.873 -3284137479262433373                   NaN   \n",
       "3      3  2020-02-03 12:43:56.180 -4324475583306591935                   NaN   \n",
       "4      4  2020-02-03 12:43:59.396 -4618854071942621186                   NaN   \n",
       "\n",
       "      IP Address Country    Region       City     ASN  \\\n",
       "0    10.0.65.171      NO         -          -   29695   \n",
       "1   194.87.207.6      AU         -          -   60117   \n",
       "2  81.167.144.58      NO  Vestland  Urangsvag   29695   \n",
       "3  170.39.78.152      US         -          -  393398   \n",
       "4      10.0.0.47      US  Virginia    Ashburn  398986   \n",
       "\n",
       "                                   User Agent String  \\\n",
       "0  Mozilla/5.0  (iPhone; CPU iPhone OS 13_4 like ...   \n",
       "1  Mozilla/5.0  (Linux; Android 4.1; Galaxy Nexus...   \n",
       "2  Mozilla/5.0  (iPad; CPU OS 7_1 like Mac OS X) ...   \n",
       "3  Mozilla/5.0  (Linux; Android 4.1; Galaxy Nexus...   \n",
       "4  Mozilla/5.0  (Linux; U; Android 2.2) Build/NMA...   \n",
       "\n",
       "          Browser Name and Version OS Name and Version Device Type  \\\n",
       "0              Firefox 20.0.0.1618            iOS 13.4      mobile   \n",
       "1          Chrome Mobile 46.0.2490         Android 4.1      mobile   \n",
       "2               Android 2.3.3.2672             iOS 7.1      mobile   \n",
       "3  Chrome Mobile WebView 85.0.4183         Android 4.1      mobile   \n",
       "4  Chrome Mobile WebView 85.0.4183         Android 2.2      mobile   \n",
       "\n",
       "   Login Successful  Is Attack IP  Is Account Takeover  Login Hour  \n",
       "0             False         False                False          12  \n",
       "1             False         False                False          12  \n",
       "2              True         False                False          12  \n",
       "3             False         False                False          12  \n",
       "4             False          True                False          12  "
      ]
     },
     "execution_count": 12,
     "metadata": {},
     "output_type": "execute_result"
    }
   ],
   "source": [
    "data['LoginHour'] = pd.to_datetime(data['LoginTimestamp']).dt.hour"
   ]
  },
  {
   "cell_type": "code",
   "execution_count": 13,
   "id": "9fe8ddf4",
   "metadata": {
    "execution": {
     "iopub.execute_input": "2024-06-11T09:23:44.291449Z",
     "iopub.status.busy": "2024-06-11T09:23:44.290421Z",
     "iopub.status.idle": "2024-06-11T09:23:44.349119Z",
     "shell.execute_reply": "2024-06-11T09:23:44.347961Z"
    },
    "papermill": {
     "duration": 0.076511,
     "end_time": "2024-06-11T09:23:44.351757",
     "exception": false,
     "start_time": "2024-06-11T09:23:44.275246",
     "status": "completed"
    },
    "tags": []
   },
   "outputs": [],
   "source": [
    "# Converting columns value to o/1\n",
    "data['IsAccountTakeover'] = data['IsAccountTakeover'].astype(np.uint8)\n",
    "data['IsIPAttack'] = data['IsIPAttack'].astype(np.uint8)\n",
    "data['IsLoginSuccessful'] = data['IsLoginSuccessful'].astype(np.uint8)\n",
    "\n",
    "# converting columns values to numbers using factorize\n",
    "data['UserAgent'], _ = pd.factorize(data['UserAgent'])\n",
    "data['BrowserNameAndVersion'], _ = pd.factorize(data['BrowserNameAndVersion'])\n",
    "data['OSNameAndVersion'], _ = pd.factorize(data['OSNameAndVersion'])\n",
    "\n",
    "# converting ip columns values to numbers can try with using factorize also\n",
    "def ip_to_int(ip):\n",
    "    return int(ipaddress.ip_address(ip))\n",
    "\n",
    "data['IPAddress'] = data['IPAddress'].apply(ip_to_int)"
   ]
  },
  {
   "cell_type": "code",
   "execution_count": 14,
   "id": "3d3e2343",
   "metadata": {
    "execution": {
     "iopub.execute_input": "2024-06-11T09:23:44.382077Z",
     "iopub.status.busy": "2024-06-11T09:23:44.381656Z",
     "iopub.status.idle": "2024-06-11T09:23:47.644559Z",
     "shell.execute_reply": "2024-06-11T09:23:47.643425Z"
    },
    "papermill": {
     "duration": 3.280933,
     "end_time": "2024-06-11T09:23:47.647301",
     "exception": false,
     "start_time": "2024-06-11T09:23:44.366368",
     "status": "completed"
    },
    "tags": []
   },
   "outputs": [],
   "source": [
    "data = data.drop(columns=[\"Round-Trip Time [ms]\", 'Region', 'City', 'LoginTimestamp', 'index'])"
   ]
  },
  {
   "cell_type": "code",
   "execution_count": 15,
   "id": "0d9b42d6",
   "metadata": {
    "execution": {
     "iopub.execute_input": "2024-06-11T09:23:47.677921Z",
     "iopub.status.busy": "2024-06-11T09:23:47.677518Z",
     "iopub.status.idle": "2024-06-11T09:23:47.692257Z",
     "shell.execute_reply": "2024-06-11T09:23:47.691063Z"
    },
    "papermill": {
     "duration": 0.032515,
     "end_time": "2024-06-11T09:23:47.694397",
     "exception": false,
     "start_time": "2024-06-11T09:23:47.661882",
     "status": "completed"
    },
    "tags": []
   },
   "outputs": [
    {
     "data": {
      "text/html": [
       "<div>\n",
       "<style scoped>\n",
       "    .dataframe tbody tr th:only-of-type {\n",
       "        vertical-align: middle;\n",
       "    }\n",
       "\n",
       "    .dataframe tbody tr th {\n",
       "        vertical-align: top;\n",
       "    }\n",
       "\n",
       "    .dataframe thead th {\n",
       "        text-align: right;\n",
       "    }\n",
       "</style>\n",
       "<table border=\"1\" class=\"dataframe\">\n",
       "  <thead>\n",
       "    <tr style=\"text-align: right;\">\n",
       "      <th></th>\n",
       "      <th>User ID</th>\n",
       "      <th>IP Address</th>\n",
       "      <th>Country</th>\n",
       "      <th>ASN</th>\n",
       "      <th>User Agent String</th>\n",
       "      <th>Browser Name and Version</th>\n",
       "      <th>OS Name and Version</th>\n",
       "      <th>Device Type</th>\n",
       "      <th>Login Successful</th>\n",
       "      <th>Is Attack IP</th>\n",
       "      <th>Is Account Takeover</th>\n",
       "      <th>Login Hour</th>\n",
       "    </tr>\n",
       "  </thead>\n",
       "  <tbody>\n",
       "    <tr>\n",
       "      <th>0</th>\n",
       "      <td>-4324475583306591935</td>\n",
       "      <td>10.0.65.171</td>\n",
       "      <td>NO</td>\n",
       "      <td>29695</td>\n",
       "      <td>Mozilla/5.0  (iPhone; CPU iPhone OS 13_4 like ...</td>\n",
       "      <td>Firefox 20.0.0.1618</td>\n",
       "      <td>iOS 13.4</td>\n",
       "      <td>mobile</td>\n",
       "      <td>0</td>\n",
       "      <td>0</td>\n",
       "      <td>0</td>\n",
       "      <td>12</td>\n",
       "    </tr>\n",
       "    <tr>\n",
       "      <th>1</th>\n",
       "      <td>-4324475583306591935</td>\n",
       "      <td>194.87.207.6</td>\n",
       "      <td>AU</td>\n",
       "      <td>60117</td>\n",
       "      <td>Mozilla/5.0  (Linux; Android 4.1; Galaxy Nexus...</td>\n",
       "      <td>Chrome Mobile 46.0.2490</td>\n",
       "      <td>Android 4.1</td>\n",
       "      <td>mobile</td>\n",
       "      <td>0</td>\n",
       "      <td>0</td>\n",
       "      <td>0</td>\n",
       "      <td>12</td>\n",
       "    </tr>\n",
       "    <tr>\n",
       "      <th>2</th>\n",
       "      <td>-3284137479262433373</td>\n",
       "      <td>81.167.144.58</td>\n",
       "      <td>NO</td>\n",
       "      <td>29695</td>\n",
       "      <td>Mozilla/5.0  (iPad; CPU OS 7_1 like Mac OS X) ...</td>\n",
       "      <td>Android 2.3.3.2672</td>\n",
       "      <td>iOS 7.1</td>\n",
       "      <td>mobile</td>\n",
       "      <td>1</td>\n",
       "      <td>0</td>\n",
       "      <td>0</td>\n",
       "      <td>12</td>\n",
       "    </tr>\n",
       "    <tr>\n",
       "      <th>3</th>\n",
       "      <td>-4324475583306591935</td>\n",
       "      <td>170.39.78.152</td>\n",
       "      <td>US</td>\n",
       "      <td>393398</td>\n",
       "      <td>Mozilla/5.0  (Linux; Android 4.1; Galaxy Nexus...</td>\n",
       "      <td>Chrome Mobile WebView 85.0.4183</td>\n",
       "      <td>Android 4.1</td>\n",
       "      <td>mobile</td>\n",
       "      <td>0</td>\n",
       "      <td>0</td>\n",
       "      <td>0</td>\n",
       "      <td>12</td>\n",
       "    </tr>\n",
       "    <tr>\n",
       "      <th>4</th>\n",
       "      <td>-4618854071942621186</td>\n",
       "      <td>10.0.0.47</td>\n",
       "      <td>US</td>\n",
       "      <td>398986</td>\n",
       "      <td>Mozilla/5.0  (Linux; U; Android 2.2) Build/NMA...</td>\n",
       "      <td>Chrome Mobile WebView 85.0.4183</td>\n",
       "      <td>Android 2.2</td>\n",
       "      <td>mobile</td>\n",
       "      <td>0</td>\n",
       "      <td>1</td>\n",
       "      <td>0</td>\n",
       "      <td>12</td>\n",
       "    </tr>\n",
       "  </tbody>\n",
       "</table>\n",
       "</div>"
      ],
      "text/plain": [
       "               User ID     IP Address Country     ASN  \\\n",
       "0 -4324475583306591935    10.0.65.171      NO   29695   \n",
       "1 -4324475583306591935   194.87.207.6      AU   60117   \n",
       "2 -3284137479262433373  81.167.144.58      NO   29695   \n",
       "3 -4324475583306591935  170.39.78.152      US  393398   \n",
       "4 -4618854071942621186      10.0.0.47      US  398986   \n",
       "\n",
       "                                   User Agent String  \\\n",
       "0  Mozilla/5.0  (iPhone; CPU iPhone OS 13_4 like ...   \n",
       "1  Mozilla/5.0  (Linux; Android 4.1; Galaxy Nexus...   \n",
       "2  Mozilla/5.0  (iPad; CPU OS 7_1 like Mac OS X) ...   \n",
       "3  Mozilla/5.0  (Linux; Android 4.1; Galaxy Nexus...   \n",
       "4  Mozilla/5.0  (Linux; U; Android 2.2) Build/NMA...   \n",
       "\n",
       "          Browser Name and Version OS Name and Version Device Type  \\\n",
       "0              Firefox 20.0.0.1618            iOS 13.4      mobile   \n",
       "1          Chrome Mobile 46.0.2490         Android 4.1      mobile   \n",
       "2               Android 2.3.3.2672             iOS 7.1      mobile   \n",
       "3  Chrome Mobile WebView 85.0.4183         Android 4.1      mobile   \n",
       "4  Chrome Mobile WebView 85.0.4183         Android 2.2      mobile   \n",
       "\n",
       "   Login Successful  Is Attack IP  Is Account Takeover  Login Hour  \n",
       "0                 0             0                    0          12  \n",
       "1                 0             0                    0          12  \n",
       "2                 1             0                    0          12  \n",
       "3                 0             0                    0          12  \n",
       "4                 0             1                    0          12  "
      ]
     },
     "execution_count": 15,
     "metadata": {},
     "output_type": "execute_result"
    }
   ],
   "source": [
    "data.head()"
   ]
  },
  {
   "cell_type": "code",
   "execution_count": 16,
   "id": "4d778035",
   "metadata": {
    "execution": {
     "iopub.execute_input": "2024-06-11T09:23:47.752529Z",
     "iopub.status.busy": "2024-06-11T09:23:47.752141Z",
     "iopub.status.idle": "2024-06-11T09:24:04.652995Z",
     "shell.execute_reply": "2024-06-11T09:24:04.652140Z"
    },
    "papermill": {
     "duration": 16.918862,
     "end_time": "2024-06-11T09:24:04.655617",
     "exception": false,
     "start_time": "2024-06-11T09:23:47.736755",
     "status": "completed"
    },
    "tags": []
   },
   "outputs": [],
   "source": [
    "account_takeover_rows = data[data['IsAccountTakeover'] == 1]\n",
    "\n",
    "# Display or further process the filtered rows\n",
    "account_takeover_rows"
   ]
  },
  {
   "cell_type": "code",
   "execution_count": 18,
   "id": "90390078",
   "metadata": {
    "execution": {
     "iopub.execute_input": "2024-06-11T09:26:35.659337Z",
     "iopub.status.busy": "2024-06-11T09:26:35.658459Z",
     "iopub.status.idle": "2024-06-11T09:26:35.682432Z",
     "shell.execute_reply": "2024-06-11T09:26:35.681347Z"
    },
    "papermill": {
     "duration": 0.044245,
     "end_time": "2024-06-11T09:26:35.686066",
     "exception": false,
     "start_time": "2024-06-11T09:26:35.641821",
     "status": "completed"
    },
    "tags": []
   },
   "outputs": [
    {
     "data": {
      "text/html": [
       "<div>\n",
       "<style scoped>\n",
       "    .dataframe tbody tr th:only-of-type {\n",
       "        vertical-align: middle;\n",
       "    }\n",
       "\n",
       "    .dataframe tbody tr th {\n",
       "        vertical-align: top;\n",
       "    }\n",
       "\n",
       "    .dataframe thead th {\n",
       "        text-align: right;\n",
       "    }\n",
       "</style>\n",
       "<table border=\"1\" class=\"dataframe\">\n",
       "  <thead>\n",
       "    <tr style=\"text-align: right;\">\n",
       "      <th></th>\n",
       "      <th>User ID</th>\n",
       "      <th>IP Address</th>\n",
       "      <th>Country</th>\n",
       "      <th>ASN</th>\n",
       "      <th>User Agent String</th>\n",
       "      <th>Browser Name and Version</th>\n",
       "      <th>OS Name and Version</th>\n",
       "      <th>Device Type</th>\n",
       "      <th>Login Successful</th>\n",
       "      <th>Is Attack IP</th>\n",
       "      <th>Is Account Takeover</th>\n",
       "      <th>Login Hour</th>\n",
       "    </tr>\n",
       "  </thead>\n",
       "  <tbody>\n",
       "    <tr>\n",
       "      <th>0</th>\n",
       "      <td>-4324475583306591935</td>\n",
       "      <td>167788971</td>\n",
       "      <td>NO</td>\n",
       "      <td>29695</td>\n",
       "      <td>0</td>\n",
       "      <td>0</td>\n",
       "      <td>0</td>\n",
       "      <td>mobile</td>\n",
       "      <td>0</td>\n",
       "      <td>0</td>\n",
       "      <td>0</td>\n",
       "      <td>12</td>\n",
       "    </tr>\n",
       "    <tr>\n",
       "      <th>1</th>\n",
       "      <td>-4324475583306591935</td>\n",
       "      <td>3260534534</td>\n",
       "      <td>AU</td>\n",
       "      <td>60117</td>\n",
       "      <td>1</td>\n",
       "      <td>1</td>\n",
       "      <td>1</td>\n",
       "      <td>mobile</td>\n",
       "      <td>0</td>\n",
       "      <td>0</td>\n",
       "      <td>0</td>\n",
       "      <td>12</td>\n",
       "    </tr>\n",
       "    <tr>\n",
       "      <th>2</th>\n",
       "      <td>-3284137479262433373</td>\n",
       "      <td>1369935930</td>\n",
       "      <td>NO</td>\n",
       "      <td>29695</td>\n",
       "      <td>2</td>\n",
       "      <td>2</td>\n",
       "      <td>2</td>\n",
       "      <td>mobile</td>\n",
       "      <td>1</td>\n",
       "      <td>0</td>\n",
       "      <td>0</td>\n",
       "      <td>12</td>\n",
       "    </tr>\n",
       "    <tr>\n",
       "      <th>3</th>\n",
       "      <td>-4324475583306591935</td>\n",
       "      <td>2854702744</td>\n",
       "      <td>US</td>\n",
       "      <td>393398</td>\n",
       "      <td>3</td>\n",
       "      <td>3</td>\n",
       "      <td>1</td>\n",
       "      <td>mobile</td>\n",
       "      <td>0</td>\n",
       "      <td>0</td>\n",
       "      <td>0</td>\n",
       "      <td>12</td>\n",
       "    </tr>\n",
       "    <tr>\n",
       "      <th>4</th>\n",
       "      <td>-4618854071942621186</td>\n",
       "      <td>167772207</td>\n",
       "      <td>US</td>\n",
       "      <td>398986</td>\n",
       "      <td>4</td>\n",
       "      <td>3</td>\n",
       "      <td>3</td>\n",
       "      <td>mobile</td>\n",
       "      <td>0</td>\n",
       "      <td>1</td>\n",
       "      <td>0</td>\n",
       "      <td>12</td>\n",
       "    </tr>\n",
       "    <tr>\n",
       "      <th>5</th>\n",
       "      <td>-4324475583306591935</td>\n",
       "      <td>3521936254</td>\n",
       "      <td>US</td>\n",
       "      <td>393398</td>\n",
       "      <td>5</td>\n",
       "      <td>3</td>\n",
       "      <td>1</td>\n",
       "      <td>mobile</td>\n",
       "      <td>0</td>\n",
       "      <td>1</td>\n",
       "      <td>0</td>\n",
       "      <td>12</td>\n",
       "    </tr>\n",
       "    <tr>\n",
       "      <th>6</th>\n",
       "      <td>7246533443898239661</td>\n",
       "      <td>1355474134</td>\n",
       "      <td>NO</td>\n",
       "      <td>15659</td>\n",
       "      <td>6</td>\n",
       "      <td>4</td>\n",
       "      <td>4</td>\n",
       "      <td>desktop</td>\n",
       "      <td>1</td>\n",
       "      <td>0</td>\n",
       "      <td>0</td>\n",
       "      <td>12</td>\n",
       "    </tr>\n",
       "    <tr>\n",
       "      <th>7</th>\n",
       "      <td>-3243978724802435038</td>\n",
       "      <td>2854702769</td>\n",
       "      <td>US</td>\n",
       "      <td>393398</td>\n",
       "      <td>7</td>\n",
       "      <td>5</td>\n",
       "      <td>5</td>\n",
       "      <td>mobile</td>\n",
       "      <td>0</td>\n",
       "      <td>0</td>\n",
       "      <td>0</td>\n",
       "      <td>12</td>\n",
       "    </tr>\n",
       "    <tr>\n",
       "      <th>8</th>\n",
       "      <td>8076000552587369902</td>\n",
       "      <td>167787988</td>\n",
       "      <td>NO</td>\n",
       "      <td>29695</td>\n",
       "      <td>8</td>\n",
       "      <td>6</td>\n",
       "      <td>6</td>\n",
       "      <td>mobile</td>\n",
       "      <td>0</td>\n",
       "      <td>0</td>\n",
       "      <td>0</td>\n",
       "      <td>12</td>\n",
       "    </tr>\n",
       "    <tr>\n",
       "      <th>9</th>\n",
       "      <td>-3065936140549856249</td>\n",
       "      <td>1558015394</td>\n",
       "      <td>NO</td>\n",
       "      <td>29695</td>\n",
       "      <td>9</td>\n",
       "      <td>7</td>\n",
       "      <td>7</td>\n",
       "      <td>desktop</td>\n",
       "      <td>1</td>\n",
       "      <td>0</td>\n",
       "      <td>0</td>\n",
       "      <td>12</td>\n",
       "    </tr>\n",
       "    <tr>\n",
       "      <th>10</th>\n",
       "      <td>5932501938287412564</td>\n",
       "      <td>1412447623</td>\n",
       "      <td>NO</td>\n",
       "      <td>15659</td>\n",
       "      <td>10</td>\n",
       "      <td>8</td>\n",
       "      <td>7</td>\n",
       "      <td>desktop</td>\n",
       "      <td>1</td>\n",
       "      <td>0</td>\n",
       "      <td>0</td>\n",
       "      <td>12</td>\n",
       "    </tr>\n",
       "    <tr>\n",
       "      <th>11</th>\n",
       "      <td>-9080829243863829585</td>\n",
       "      <td>2620665939</td>\n",
       "      <td>NO</td>\n",
       "      <td>29695</td>\n",
       "      <td>11</td>\n",
       "      <td>9</td>\n",
       "      <td>7</td>\n",
       "      <td>desktop</td>\n",
       "      <td>1</td>\n",
       "      <td>0</td>\n",
       "      <td>0</td>\n",
       "      <td>12</td>\n",
       "    </tr>\n",
       "    <tr>\n",
       "      <th>12</th>\n",
       "      <td>5729679535281970107</td>\n",
       "      <td>2854703012</td>\n",
       "      <td>US</td>\n",
       "      <td>393398</td>\n",
       "      <td>12</td>\n",
       "      <td>10</td>\n",
       "      <td>1</td>\n",
       "      <td>mobile</td>\n",
       "      <td>0</td>\n",
       "      <td>0</td>\n",
       "      <td>0</td>\n",
       "      <td>12</td>\n",
       "    </tr>\n",
       "    <tr>\n",
       "      <th>13</th>\n",
       "      <td>-4324475583306591935</td>\n",
       "      <td>785658794</td>\n",
       "      <td>NO</td>\n",
       "      <td>41164</td>\n",
       "      <td>13</td>\n",
       "      <td>11</td>\n",
       "      <td>8</td>\n",
       "      <td>desktop</td>\n",
       "      <td>0</td>\n",
       "      <td>0</td>\n",
       "      <td>0</td>\n",
       "      <td>12</td>\n",
       "    </tr>\n",
       "    <tr>\n",
       "      <th>14</th>\n",
       "      <td>-4324475583306591935</td>\n",
       "      <td>167789398</td>\n",
       "      <td>NO</td>\n",
       "      <td>29695</td>\n",
       "      <td>2</td>\n",
       "      <td>2</td>\n",
       "      <td>2</td>\n",
       "      <td>mobile</td>\n",
       "      <td>0</td>\n",
       "      <td>0</td>\n",
       "      <td>0</td>\n",
       "      <td>12</td>\n",
       "    </tr>\n",
       "    <tr>\n",
       "      <th>15</th>\n",
       "      <td>-8296667206273764769</td>\n",
       "      <td>1385380445</td>\n",
       "      <td>NO</td>\n",
       "      <td>29492</td>\n",
       "      <td>2</td>\n",
       "      <td>2</td>\n",
       "      <td>2</td>\n",
       "      <td>mobile</td>\n",
       "      <td>1</td>\n",
       "      <td>0</td>\n",
       "      <td>0</td>\n",
       "      <td>12</td>\n",
       "    </tr>\n",
       "    <tr>\n",
       "      <th>16</th>\n",
       "      <td>-4663943525943860871</td>\n",
       "      <td>1369861544</td>\n",
       "      <td>NO</td>\n",
       "      <td>29695</td>\n",
       "      <td>10</td>\n",
       "      <td>8</td>\n",
       "      <td>7</td>\n",
       "      <td>desktop</td>\n",
       "      <td>1</td>\n",
       "      <td>0</td>\n",
       "      <td>0</td>\n",
       "      <td>12</td>\n",
       "    </tr>\n",
       "    <tr>\n",
       "      <th>17</th>\n",
       "      <td>-4324475583306591935</td>\n",
       "      <td>1933957922</td>\n",
       "      <td>ID</td>\n",
       "      <td>38778</td>\n",
       "      <td>14</td>\n",
       "      <td>3</td>\n",
       "      <td>0</td>\n",
       "      <td>mobile</td>\n",
       "      <td>0</td>\n",
       "      <td>0</td>\n",
       "      <td>0</td>\n",
       "      <td>12</td>\n",
       "    </tr>\n",
       "    <tr>\n",
       "      <th>18</th>\n",
       "      <td>-4324475583306591935</td>\n",
       "      <td>783790079</td>\n",
       "      <td>NO</td>\n",
       "      <td>197475</td>\n",
       "      <td>15</td>\n",
       "      <td>12</td>\n",
       "      <td>9</td>\n",
       "      <td>desktop</td>\n",
       "      <td>0</td>\n",
       "      <td>0</td>\n",
       "      <td>0</td>\n",
       "      <td>12</td>\n",
       "    </tr>\n",
       "    <tr>\n",
       "      <th>19</th>\n",
       "      <td>1211299018980019605</td>\n",
       "      <td>167792079</td>\n",
       "      <td>NO</td>\n",
       "      <td>29695</td>\n",
       "      <td>16</td>\n",
       "      <td>4</td>\n",
       "      <td>10</td>\n",
       "      <td>desktop</td>\n",
       "      <td>1</td>\n",
       "      <td>0</td>\n",
       "      <td>0</td>\n",
       "      <td>12</td>\n",
       "    </tr>\n",
       "  </tbody>\n",
       "</table>\n",
       "</div>"
      ],
      "text/plain": [
       "                User ID  IP Address Country     ASN  User Agent String  \\\n",
       "0  -4324475583306591935   167788971      NO   29695                  0   \n",
       "1  -4324475583306591935  3260534534      AU   60117                  1   \n",
       "2  -3284137479262433373  1369935930      NO   29695                  2   \n",
       "3  -4324475583306591935  2854702744      US  393398                  3   \n",
       "4  -4618854071942621186   167772207      US  398986                  4   \n",
       "5  -4324475583306591935  3521936254      US  393398                  5   \n",
       "6   7246533443898239661  1355474134      NO   15659                  6   \n",
       "7  -3243978724802435038  2854702769      US  393398                  7   \n",
       "8   8076000552587369902   167787988      NO   29695                  8   \n",
       "9  -3065936140549856249  1558015394      NO   29695                  9   \n",
       "10  5932501938287412564  1412447623      NO   15659                 10   \n",
       "11 -9080829243863829585  2620665939      NO   29695                 11   \n",
       "12  5729679535281970107  2854703012      US  393398                 12   \n",
       "13 -4324475583306591935   785658794      NO   41164                 13   \n",
       "14 -4324475583306591935   167789398      NO   29695                  2   \n",
       "15 -8296667206273764769  1385380445      NO   29492                  2   \n",
       "16 -4663943525943860871  1369861544      NO   29695                 10   \n",
       "17 -4324475583306591935  1933957922      ID   38778                 14   \n",
       "18 -4324475583306591935   783790079      NO  197475                 15   \n",
       "19  1211299018980019605   167792079      NO   29695                 16   \n",
       "\n",
       "    Browser Name and Version  OS Name and Version Device Type  \\\n",
       "0                          0                    0      mobile   \n",
       "1                          1                    1      mobile   \n",
       "2                          2                    2      mobile   \n",
       "3                          3                    1      mobile   \n",
       "4                          3                    3      mobile   \n",
       "5                          3                    1      mobile   \n",
       "6                          4                    4     desktop   \n",
       "7                          5                    5      mobile   \n",
       "8                          6                    6      mobile   \n",
       "9                          7                    7     desktop   \n",
       "10                         8                    7     desktop   \n",
       "11                         9                    7     desktop   \n",
       "12                        10                    1      mobile   \n",
       "13                        11                    8     desktop   \n",
       "14                         2                    2      mobile   \n",
       "15                         2                    2      mobile   \n",
       "16                         8                    7     desktop   \n",
       "17                         3                    0      mobile   \n",
       "18                        12                    9     desktop   \n",
       "19                         4                   10     desktop   \n",
       "\n",
       "    Login Successful  Is Attack IP  Is Account Takeover  Login Hour  \n",
       "0                  0             0                    0          12  \n",
       "1                  0             0                    0          12  \n",
       "2                  1             0                    0          12  \n",
       "3                  0             0                    0          12  \n",
       "4                  0             1                    0          12  \n",
       "5                  0             1                    0          12  \n",
       "6                  1             0                    0          12  \n",
       "7                  0             0                    0          12  \n",
       "8                  0             0                    0          12  \n",
       "9                  1             0                    0          12  \n",
       "10                 1             0                    0          12  \n",
       "11                 1             0                    0          12  \n",
       "12                 0             0                    0          12  \n",
       "13                 0             0                    0          12  \n",
       "14                 0             0                    0          12  \n",
       "15                 1             0                    0          12  \n",
       "16                 1             0                    0          12  \n",
       "17                 0             0                    0          12  \n",
       "18                 0             0                    0          12  \n",
       "19                 1             0                    0          12  "
      ]
     },
     "execution_count": 18,
     "metadata": {},
     "output_type": "execute_result"
    }
   ],
   "source": [
    "data.head(10)"
   ]
  },
  {
   "cell_type": "code",
   "execution_count": 20,
   "id": "667e56d9",
   "metadata": {
    "execution": {
     "iopub.execute_input": "2024-06-11T09:26:35.786543Z",
     "iopub.status.busy": "2024-06-11T09:26:35.786122Z",
     "iopub.status.idle": "2024-06-11T09:26:35.791658Z",
     "shell.execute_reply": "2024-06-11T09:26:35.790547Z"
    },
    "papermill": {
     "duration": 0.024638,
     "end_time": "2024-06-11T09:26:35.793969",
     "exception": false,
     "start_time": "2024-06-11T09:26:35.769331",
     "status": "completed"
    },
    "tags": []
   },
   "outputs": [],
   "source": [
    "categorical_cols = ['Country', 'DeviceType']\n",
    "numeric_cols = ['ASN', 'LoginHour', 'IPAddress', 'UserAgent', 'BrowserNameAndVersion', 'OSNameAndVersion']"
   ]
  },
  {
   "cell_type": "code",
   "execution_count": 22,
   "id": "5ef0b52d",
   "metadata": {
    "execution": {
     "iopub.execute_input": "2024-06-11T09:26:36.390280Z",
     "iopub.status.busy": "2024-06-11T09:26:36.389889Z",
     "iopub.status.idle": "2024-06-11T09:26:36.578263Z",
     "shell.execute_reply": "2024-06-11T09:26:36.576738Z"
    },
    "papermill": {
     "duration": 0.209123,
     "end_time": "2024-06-11T09:26:36.581659",
     "exception": false,
     "start_time": "2024-06-11T09:26:36.372536",
     "status": "completed"
    },
    "tags": []
   },
   "outputs": [
    {
     "data": {
      "image/png": "[encoded data removed]",
      "text/plain": [
       "<Figure size 1200x700 with 1 Axes>"
      ]
     },
     "metadata": {},
     "output_type": "display_data"
    }
   ],
   "source": [
    "\n",
    "\"\"\"percentage wise calculations\n",
    "\"\"\" \n",
    "percentage1=data['IsIPAttack'].value_counts(normalize=True)*100\n",
    "classlabels=[\"No Attack\",\"Attacked\"]\n",
    "plt.figure(figsize=(12,7))\n",
    "plt.pie(percentage1,labels=classlabels,autopct='%1.3f%%')\n",
    "plt.title(\"Attack IP\")\n",
    "plt.show()"
   ]
  },
  {
   "cell_type": "code",
   "execution_count": 23,
   "id": "c4e90f0d",
   "metadata": {
    "execution": {
     "iopub.execute_input": "2024-06-11T09:26:36.638397Z",
     "iopub.status.busy": "2024-06-11T09:26:36.638030Z",
     "iopub.status.idle": "2024-06-11T09:26:36.799148Z",
     "shell.execute_reply": "2024-06-11T09:26:36.797564Z"
    },
    "papermill": {
     "duration": 0.194509,
     "end_time": "2024-06-11T09:26:36.804024",
     "exception": false,
     "start_time": "2024-06-11T09:26:36.609515",
     "status": "completed"
    },
    "tags": []
   },
   "outputs": [
    {
     "data": {
      "image/png": "[encoded data removed]",
      "text/plain": [
       "<Figure size 1200x700 with 1 Axes>"
      ]
     },
     "metadata": {},
     "output_type": "display_data"
    }
   ],
   "source": [
    "percentage2=data['IsAccountTakeover'].value_counts(normalize=True)*100\n",
    "classlabels=[\"Not Takeover\", \"Takeover\"]\n",
    "plt.figure(figsize=(12,7))\n",
    "plt.pie(percentage2,labels=classlabels,autopct='%1.5f%%')\n",
    "plt.title(\"Is Account Takeover\")\n",
    "plt.show()"
   ]
  },
  {
   "cell_type": "code",
   "execution_count": 24,
   "id": "8107ddff",
   "metadata": {
    "execution": {
     "iopub.execute_input": "2024-06-11T09:26:36.855822Z",
     "iopub.status.busy": "2024-06-11T09:26:36.855266Z",
     "iopub.status.idle": "2024-06-11T09:26:36.975663Z",
     "shell.execute_reply": "2024-06-11T09:26:36.974495Z"
    },
    "papermill": {
     "duration": 0.145906,
     "end_time": "2024-06-11T09:26:36.978493",
     "exception": false,
     "start_time": "2024-06-11T09:26:36.832587",
     "status": "completed"
    },
    "tags": []
   },
   "outputs": [
    {
     "data": {
      "image/png": "[encoded data removed]",
      "text/plain": [
       "<Figure size 1200x700 with 1 Axes>"
      ]
     },
     "metadata": {},
     "output_type": "display_data"
    }
   ],
   "source": [
    "percentage3=data['IsLoginSuccessful'].value_counts(normalize=True)*100\n",
    "classlabels=[\"Success\",\"Unsuccess\"]\n",
    "plt.figure(figsize=(12,7))\n",
    "plt.pie(percentage3,labels=classlabels,autopct='%1.3f%%')\n",
    "plt.title(\"Login Success\")\n",
    "plt.show()"
   ]
  },
  {
   "cell_type": "code",
   "execution_count": null,
   "id": "52aaae2a",
   "metadata": {},
   "outputs": [],
   "source": [
    "# filtering data \n",
    "data = data[data.Country !='SR'] \n",
    "data = data[data.Country !='GM']\n",
    "data = data[data.Country !='AQ']"
   ]
  },
  {
   "cell_type": "code",
   "execution_count": 25,
   "id": "7b11b994",
   "metadata": {
    "execution": {
     "iopub.execute_input": "2024-06-11T09:26:37.015483Z",
     "iopub.status.busy": "2024-06-11T09:26:37.014615Z",
     "iopub.status.idle": "2024-06-11T09:27:11.829486Z",
     "shell.execute_reply": "2024-06-11T09:27:11.828400Z"
    },
    "papermill": {
     "duration": 34.836356,
     "end_time": "2024-06-11T09:27:11.832194",
     "exception": false,
     "start_time": "2024-06-11T09:26:36.995838",
     "status": "completed"
    },
    "tags": []
   },
   "outputs": [],
   "source": [
    "# Splitting the dataset\n",
    "features = data.drop(['IsIPAttack', 'IsAccountTakeover'], axis=1)\n",
    "labels = data['IsAccountTakeover']\n",
    "\n",
    "X_train, X_test, y_train, y_test = train_test_split(features, labels, test_size=0.2, random_state=42,stratify=labels)"
   ]
  },
  {
   "cell_type": "code",
   "execution_count": 26,
   "id": "cb78951c",
   "metadata": {
    "execution": {
     "iopub.execute_input": "2024-06-11T09:27:11.868670Z",
     "iopub.status.busy": "2024-06-11T09:27:11.868276Z",
     "iopub.status.idle": "2024-06-11T09:27:11.872942Z",
     "shell.execute_reply": "2024-06-11T09:27:11.871771Z"
    },
    "papermill": {
     "duration": 0.025708,
     "end_time": "2024-06-11T09:27:11.875342",
     "exception": false,
     "start_time": "2024-06-11T09:27:11.849634",
     "status": "completed"
    },
    "tags": []
   },
   "outputs": [],
   "source": [
    "# from sklearn.ensemble import AdaBoostClassifier, ExtraTreesClassifier\n",
    "# from xgboost import XGBClassifier\n",
    "# from lightgbm import LGBMClassifier"
   ]
  },
  {
   "cell_type": "code",
   "execution_count": 27,
   "id": "df757a1f",
   "metadata": {
    "execution": {
     "iopub.execute_input": "2024-06-11T09:27:11.911500Z",
     "iopub.status.busy": "2024-06-11T09:27:11.910554Z",
     "iopub.status.idle": "2024-06-11T09:27:11.919862Z",
     "shell.execute_reply": "2024-06-11T09:27:11.918771Z"
    },
    "papermill": {
     "duration": 0.029731,
     "end_time": "2024-06-11T09:27:11.922077",
     "exception": false,
     "start_time": "2024-06-11T09:27:11.892346",
     "status": "completed"
    },
    "tags": []
   },
   "outputs": [],
   "source": [
    "preprocessor = ColumnTransformer(\n",
    "    transformers=[\n",
    "        ('num', StandardScaler(), numeric_cols),\n",
    "        ('cat', OneHotEncoder(), categorical_cols)\n",
    "    ])\n",
    "\n",
    "# Classifiers\n",
    "classifiers = {\n",
    "    'logistic_regression': LogisticRegression(max_iter=1000),\n",
    "    'decision_tree': DecisionTreeClassifier(),\n",
    "    'svm': SVC(probability=True),\n",
    "    'random_forest': RandomForestClassifier(),\n",
    "    'Adaboost' : AdaBoostClassifier(),\n",
    "    'Extra' :  ExtraTreesClassifier(),\n",
    "    'lgbm' : LGBMClassifier(),\n",
    "    'XGB': XGBClassifier()\n",
    "}\n",
    "\n",
    "# A function to choose classifiers\n",
    "def make_pipeline(classifier_key):\n",
    "    if classifier_key in classifiers:\n",
    "        clf = Pipeline(steps=[\n",
    "            ('preprocessor', preprocessor),\n",
    "            ('classifier', classifiers[classifier_key])\n",
    "        ])\n",
    "        return clf\n",
    "    else:\n",
    "        raise ValueError(f\"Classifier {classifier_key} is not defined\")"
   ]
  },
  {
   "cell_type": "code",
   "execution_count": 28,
   "id": "94dd6cd8",
   "metadata": {
    "execution": {
     "iopub.execute_input": "2024-06-11T09:27:11.958379Z",
     "iopub.status.busy": "2024-06-11T09:27:11.957216Z",
     "iopub.status.idle": "2024-06-11T09:27:11.962565Z",
     "shell.execute_reply": "2024-06-11T09:27:11.961472Z"
    },
    "papermill": {
     "duration": 0.025805,
     "end_time": "2024-06-11T09:27:11.964797",
     "exception": false,
     "start_time": "2024-06-11T09:27:11.938992",
     "status": "completed"
    },
    "tags": []
   },
   "outputs": [],
   "source": [
    "from sklearn.metrics import ConfusionMatrixDisplay\n",
    "from sklearn.metrics import classification_report\n",
    "from sklearn.metrics import accuracy_score"
   ]
  },
  {
   "cell_type": "code",
   "execution_count": 29,
   "id": "a22da986",
   "metadata": {
    "execution": {
     "iopub.execute_input": "2024-06-11T09:27:12.002130Z",
     "iopub.status.busy": "2024-06-11T09:27:12.000727Z",
     "iopub.status.idle": "2024-06-11T09:31:13.019911Z",
     "shell.execute_reply": "2024-06-11T09:31:13.018588Z"
    },
    "papermill": {
     "duration": 241.058283,
     "end_time": "2024-06-11T09:31:13.040200",
     "exception": false,
     "start_time": "2024-06-11T09:27:11.981917",
     "status": "completed"
    },
    "tags": []
   },
   "outputs": [
    {
     "name": "stdout",
     "output_type": "stream",
     "text": [
      "AUC Score: 0.9502065421676222\n"
     ]
    }
   ],
   "source": [
    "classifier_key = 'logistic_regression'\n",
    "pipeline =  make_pipeline(classifier_key)\n",
    "pipeline.fit(X_train, y_train)\n",
    "\n",
    "# Evaluation\n",
    "lrpredictions = pipeline.predict(X_test)\n",
    "probs = pipeline.predict_proba(X_test)[:, 1]\n",
    "auc_score = roc_auc_score(y_test, probs)\n",
    "\n",
    "print(f\"AUC Score: {auc_score}\")\n",
    "\n",
    "from sklearn.metrics import classification_report\n",
    "from sklearn.metrics import accuracy_score\n",
    "\n",
    "Score = accuracy_score(y_test,lrpredictions)\n",
    "Classification_Report = classification_report(y_test,lrpredictions)\n",
    "\n",
    "print(\"Logistic Regression\")\n",
    "print (\"Accuracy Score value: {:.4f}\".format(Score))\n",
    "print (Classification_Report)\n",
    "\n",
    "Logistic_Regression_Confusion_Matrix = ConfusionMatrixDisplay.from_estimator(pipeline, X_test, y_test)\n",
    "Logistic_Regression_Confusion_Matrix\n",
    "plt.show()"
   ]
  },
  {
   "cell_type": "code",
   "execution_count": 32,
   "id": "522ec54c",
   "metadata": {
    "execution": {
     "iopub.execute_input": "2024-06-11T09:31:24.698929Z",
     "iopub.status.busy": "2024-06-11T09:31:24.698530Z",
     "iopub.status.idle": "2024-06-11T09:31:33.345907Z",
     "shell.execute_reply": "2024-06-11T09:31:33.344741Z"
    },
    "papermill": {
     "duration": 8.668481,
     "end_time": "2024-06-11T09:31:33.348480",
     "exception": false,
     "start_time": "2024-06-11T09:31:24.679999",
     "status": "completed"
    },
    "tags": []
   },
   "outputs": [
    {
     "data": {
      "image/png": "[encoded data removed]",
      "text/plain": [
       "<Figure size 640x480 with 2 Axes>"
      ]
     },
     "metadata": {},
     "output_type": "display_data"
    }
   ],
   "source": [
    "# Check for the input variable \n",
    "IsAccountTakeoverdata = data[data.IsAccountTakeover == 1]  \n",
    "dfToTestList = IsAccountTakeoverdata.drop('IsAccountTakeover', axis=1) \n",
    "tocheck = dfToTestList.sample()\n",
    "answer = pipeline.predict(tocheck)\n",
    "print(answer)\n",
    "tocheck  "
   ]
  },
  {
   "cell_type": "code",
   "execution_count": 33,
   "id": "a657526f",
   "metadata": {
    "execution": {
     "iopub.execute_input": "2024-06-11T09:31:33.386514Z",
     "iopub.status.busy": "2024-06-11T09:31:33.385460Z",
     "iopub.status.idle": "2024-06-11T09:43:30.548395Z",
     "shell.execute_reply": "2024-06-11T09:43:30.546911Z"
    },
    "papermill": {
     "duration": 717.204147,
     "end_time": "2024-06-11T09:43:30.570737",
     "exception": false,
     "start_time": "2024-06-11T09:31:33.366590",
     "status": "completed"
    },
    "tags": []
   },
   "outputs": [
    {
     "name": "stdout",
     "output_type": "stream",
     "text": [
      "AUC Score: 0.6428542332092759\n"
     ]
    }
   ],
   "source": [
    "classifier_key = 'decision_tree'\n",
    "pipeline = make_pipeline(classifier_key)\n",
    "pipeline.fit(X_train, y_train)\n",
    "\n",
    "# Evaluation\n",
    "dtpredictions = pipeline.predict(X_test)\n",
    "probs = pipeline.predict_proba(X_test)[:, 1]\n",
    "auc_score = roc_auc_score(y_test, probs)\n",
    "\n",
    "print(f\"AUC Score: {auc_score}\")\n",
    "\n",
    "Score = accuracy_score(y_test,dtpredictions)\n",
    "Classification_Report = classification_report(y_test,dtpredictions)\n",
    "\n",
    "print(\"Decision Tree\")\n",
    "print (\"Accuracy Score value: {:.8f}\".format(Score))\n",
    "print (Classification_Report)\n",
    "\n",
    "Logistic_Regression_Confusion_Matrix = ConfusionMatrixDisplay.from_estimator(pipeline, X_test, y_test)\n",
    "Logistic_Regression_Confusion_Matrix\n",
    "plt.show()"
   ]
  },
  {
   "cell_type": "code",
   "execution_count": 35,
   "id": "5c0ce1dc",
   "metadata": {
    "execution": {
     "iopub.execute_input": "2024-06-11T09:43:42.153519Z",
     "iopub.status.busy": "2024-06-11T09:43:42.153150Z",
     "iopub.status.idle": "2024-06-11T09:43:51.376333Z",
     "shell.execute_reply": "2024-06-11T09:43:51.375021Z"
    },
    "papermill": {
     "duration": 9.244867,
     "end_time": "2024-06-11T09:43:51.378670",
     "exception": false,
     "start_time": "2024-06-11T09:43:42.133803",
     "status": "completed"
    },
    "tags": []
   },
   "outputs": [
    {
     "data": {
      "image/png": "[encoded data removed]",
      "text/plain": [
       "<Figure size 640x480 with 2 Axes>"
      ]
     },
     "metadata": {},
     "output_type": "display_data"
    }
   ],
   "source": [
    "# Check for the input variable \n",
    "IsAccountTakeoverdata = data[data.IsAccountTakeover == 1]  \n",
    "dfToTestList = IsAccountTakeoverdata.drop('IsAccountTakeover', axis=1) \n",
    "tocheck = dfToTestList.sample()\n",
    "answer = pipeline.predict(tocheck)\n",
    "print(answer)\n",
    "tocheck  "
   ]
  },
  {
   "cell_type": "code",
   "execution_count": 36,
   "id": "cac726a4",
   "metadata": {
    "execution": {
     "iopub.execute_input": "2024-06-11T09:43:51.418742Z",
     "iopub.status.busy": "2024-06-11T09:43:51.417530Z",
     "iopub.status.idle": "2024-06-11T11:16:25.144436Z",
     "shell.execute_reply": "2024-06-11T11:16:25.142050Z"
    },
    "papermill": {
     "duration": 5553.77648,
     "end_time": "2024-06-11T11:16:25.174648",
     "exception": false,
     "start_time": "2024-06-11T09:43:51.398168",
     "status": "completed"
    },
    "tags": []
   },
   "outputs": [
    {
     "name": "stdout",
     "output_type": "stream",
     "text": [
      "AUC Score: 0.8748910780887812\n"
     ]
    }
   ],
   "source": [
    "classifier_key = 'random_forest'\n",
    "pipeline = make_pipeline(classifier_key)\n",
    "pipeline.fit(X_train, y_train)\n",
    "\n",
    "# Evaluation\n",
    "predictions = pipeline.predict(X_test)\n",
    "probs = pipeline.predict_proba(X_test)[:, 1]\n",
    "auc_score = roc_auc_score(y_test, probs)\n",
    "\n",
    "print(f\"AUC Score: {auc_score}\")\n",
    "\n",
    "Score = accuracy_score(y_test,predictions)\n",
    "Classification_Report = classification_report(y_test,predictions)\n",
    "\n",
    "print(\"Random Forest\")\n",
    "print (\"Accuracy Score value: {:.8f}\".format(Score))\n",
    "print (Classification_Report)\n",
    "\n",
    "Logistic_Regression_Confusion_Matrix = ConfusionMatrixDisplay.from_estimator(pipeline, X_test, y_test)\n",
    "Logistic_Regression_Confusion_Matrix\n",
    "plt.show()"
   ]
  },
  {
   "cell_type": "code",
   "execution_count": 38,
   "id": "8c7ba2dd",
   "metadata": {
    "execution": {
     "iopub.execute_input": "2024-06-11T11:16:36.761097Z",
     "iopub.status.busy": "2024-06-11T11:16:36.760655Z",
     "iopub.status.idle": "2024-06-11T11:18:05.386805Z",
     "shell.execute_reply": "2024-06-11T11:18:05.385573Z"
    },
    "papermill": {
     "duration": 88.667123,
     "end_time": "2024-06-11T11:18:05.408367",
     "exception": false,
     "start_time": "2024-06-11T11:16:36.741244",
     "status": "completed"
    },
    "tags": []
   },
   "outputs": [
    {
     "data": {
      "image/png": "[encoded data removed]",
      "text/plain": [
       "<Figure size 640x480 with 2 Axes>"
      ]
     },
     "metadata": {},
     "output_type": "display_data"
    }
   ],
   "source": [
    "# Check for the input variable \n",
    "IsAccountTakeoverdata = data[data.IsAccountTakeover == 1]  \n",
    "dfToTestList = IsAccountTakeoverdata.drop('IsAccountTakeover', axis=1) \n",
    "tocheck = dfToTestList.sample()\n",
    "answer = pipeline.predict(tocheck)\n",
    "print(answer)\n",
    "tocheck   "
   ]
  },
  {
   "cell_type": "code",
   "execution_count": 40,
   "id": "d44e4db1",
   "metadata": {
    "execution": {
     "iopub.execute_input": "2024-06-11T11:18:05.530385Z",
     "iopub.status.busy": "2024-06-11T11:18:05.529547Z",
     "iopub.status.idle": "2024-06-11T12:08:29.429010Z",
     "shell.execute_reply": "2024-06-11T12:08:29.426637Z"
    },
    "papermill": {
     "duration": 3023.949798,
     "end_time": "2024-06-11T12:08:29.459712",
     "exception": false,
     "start_time": "2024-06-11T11:18:05.509914",
     "status": "completed"
    },
    "tags": []
   },
   "outputs": [
    {
     "name": "stdout",
     "output_type": "stream",
     "text": [
      "AUC Score: 0.9506538398500118\n"
     ]
    }
   ],
   "source": [
    "from sklearn.metrics import ConfusionMatrixDisplay\n",
    "classifier_key = 'Adaboost'\n",
    "pipeline = make_pipeline(classifier_key)\n",
    "pipeline.fit(X_train, y_train)\n",
    "\n",
    "# Evaluation\n",
    "abpredictions = pipeline.predict(X_test)\n",
    "probs = pipeline.predict_proba(X_test)[:, 1]\n",
    "auc_score = roc_auc_score(y_test, probs)\n",
    "\n",
    "print(f\"AUC Score: {auc_score}\")\n",
    "\n",
    "Score = accuracy_score(y_test,abpredictions)\n",
    "Classification_Report = classification_report(y_test,abpredictions)\n",
    "\n",
    "print(\"Ada Boost\")\n",
    "print (\"Accuracy Score value: {:.8f}\".format(Score))\n",
    "print (Classification_Report)\n",
    "\n",
    "Logistic_Regression_Confusion_Matrix = ConfusionMatrixDisplay.from_estimator(pipeline, X_test, y_test)\n",
    "Logistic_Regression_Confusion_Matrix\n",
    "plt.show()"
   ]
  },
  {
   "cell_type": "code",
   "execution_count": 42,
   "id": "d1bd3726",
   "metadata": {
    "execution": {
     "iopub.execute_input": "2024-06-11T12:08:41.465357Z",
     "iopub.status.busy": "2024-06-11T12:08:41.464914Z",
     "iopub.status.idle": "2024-06-11T12:09:47.878353Z",
     "shell.execute_reply": "2024-06-11T12:09:47.877021Z"
    },
    "papermill": {
     "duration": 66.456477,
     "end_time": "2024-06-11T12:09:47.900904",
     "exception": false,
     "start_time": "2024-06-11T12:08:41.444427",
     "status": "completed"
    },
    "tags": []
   },
   "outputs": [
    {
     "data": {
      "image/png": "[encoded data removed]",
      "text/plain": [
       "<Figure size 640x480 with 2 Axes>"
      ]
     },
     "metadata": {},
     "output_type": "display_data"
    }
   ],
   "source": [
    "# Check for the input variable \n",
    "IsAccountTakeoverdata = data[data.IsAccountTakeover == 1]  \n",
    "dfToTestList = IsAccountTakeoverdata.drop('IsAccountTakeover', axis=1) \n",
    "tocheck = dfToTestList.sample()\n",
    "answer = pipeline.predict(tocheck)\n",
    "print(answer)\n",
    "tocheck  "
   ]
  },
  {
   "cell_type": "code",
   "execution_count": 43,
   "id": "8232b35e",
   "metadata": {
    "execution": {
     "iopub.execute_input": "2024-06-11T12:09:47.940883Z",
     "iopub.status.busy": "2024-06-11T12:09:47.940429Z",
     "iopub.status.idle": "2024-06-11T12:15:02.850073Z",
     "shell.execute_reply": "2024-06-11T12:15:02.848487Z"
    },
    "papermill": {
     "duration": 314.945688,
     "end_time": "2024-06-11T12:15:02.865589",
     "exception": false,
     "start_time": "2024-06-11T12:09:47.919901",
     "status": "completed"
    },
    "tags": []
   },
   "outputs": [
    {
     "name": "stdout",
     "output_type": "stream",
     "text": [
      "[LightGBM] [Info] Number of positive: 113, number of negative: 25015298\n",
      "[LightGBM] [Info] Auto-choosing col-wise multi-threading, the overhead of testing was 2.134736 seconds.\n",
      "You can set `force_col_wise=true` to remove the overhead.\n",
      "[LightGBM] [Info] Total Bins 1624\n",
      "[LightGBM] [Info] Number of data points in the train set: 25015411, number of used features: 199\n",
      "[LightGBM] [Info] [binary:BoostFromScore]: pavg=0.000005 -> initscore=-12.307610\n",
      "[LightGBM] [Info] Start training from score -12.307610\n",
      "AUC Score: 0.4969858446630662\n"
     ]
    }
   ],
   "source": [
    "classifier_key = 'lgbm'\n",
    "pipeline = make_pipeline(classifier_key)\n",
    "pipeline.fit(X_train, y_train)\n",
    "\n",
    "# Evaluation\n",
    "lgbmpredictions = pipeline.predict(X_test)\n",
    "probs = pipeline.predict_proba(X_test)[:, 1]\n",
    "auc_score = roc_auc_score(y_test, probs)\n",
    "\n",
    "print(f\"AUC Score: {auc_score}\")\n",
    "\n",
    "Score = accuracy_score(y_test,lgbmpredictions)\n",
    "Classification_Report = classification_report(y_test,lgbmpredictions)\n",
    "\n",
    "print(\"LGBM\")\n",
    "print (\"Accuracy Score value: {:.8f}\".format(Score))\n",
    "print (Classification_Report)\n",
    "\n",
    "Logistic_Regression_Confusion_Matrix = ConfusionMatrixDisplay.from_estimator(pipeline, X_test, y_test)\n",
    "Logistic_Regression_Confusion_Matrix\n",
    "plt.show()"
   ]
  },
  {
   "cell_type": "code",
   "execution_count": 45,
   "id": "a92a500d",
   "metadata": {
    "execution": {
     "iopub.execute_input": "2024-06-11T12:15:15.155620Z",
     "iopub.status.busy": "2024-06-11T12:15:15.155228Z",
     "iopub.status.idle": "2024-06-11T12:16:01.042069Z",
     "shell.execute_reply": "2024-06-11T12:16:01.040879Z"
    },
    "papermill": {
     "duration": 45.93182,
     "end_time": "2024-06-11T12:16:01.065611",
     "exception": false,
     "start_time": "2024-06-11T12:15:15.133791",
     "status": "completed"
    },
    "tags": []
   },
   "outputs": [
    {
     "data": {
      "image/png": "[encoded data removed]",
      "text/plain": [
       "<Figure size 640x480 with 2 Axes>"
      ]
     },
     "metadata": {},
     "output_type": "display_data"
    }
   ],
   "source": [
    "# Check for the input variable \n",
    "IsAccountTakeoverdata = data[data.IsAccountTakeover == 1]  \n",
    "dfToTestList = IsAccountTakeoverdata.drop('IsAccountTakeover', axis=1) \n",
    "tocheck = dfToTestList.sample()\n",
    "answer = pipeline.predict(tocheck)\n",
    "print(answer)\n",
    "tocheck  "
   ]
  },
  {
   "cell_type": "code",
   "execution_count": 46,
   "id": "59ca944b",
   "metadata": {
    "execution": {
     "iopub.execute_input": "2024-06-11T12:16:01.109426Z",
     "iopub.status.busy": "2024-06-11T12:16:01.108846Z",
     "iopub.status.idle": "2024-06-11T12:22:55.794120Z",
     "shell.execute_reply": "2024-06-11T12:22:55.793014Z"
    },
    "papermill": {
     "duration": 414.73161,
     "end_time": "2024-06-11T12:22:55.816913",
     "exception": false,
     "start_time": "2024-06-11T12:16:01.085303",
     "status": "completed"
    },
    "tags": []
   },
   "outputs": [
    {
     "name": "stdout",
     "output_type": "stream",
     "text": [
      "AUC Score: 0.9847150401097385\n"
     ]
    }
   ],
   "source": [
    "classifier_key = 'XGB'\n",
    "pipeline = make_pipeline(classifier_key)\n",
    "pipeline.fit(X_train, y_train)\n",
    "\n",
    "# Evaluation\n",
    "xgbpredictions = pipeline.predict(X_test)\n",
    "probs = pipeline.predict_proba(X_test)[:, 1]\n",
    "auc_score = roc_auc_score(y_test, probs)\n",
    "\n",
    "print(f\"AUC Score: {auc_score}\")\n",
    "\n",
    "Score = accuracy_score(y_test,xgbpredictions)\n",
    "Classification_Report = classification_report(y_test,xgbpredictions)\n",
    "\n",
    "print(\"LGBM\")\n",
    "print (\"Accuracy Score value: {:.8f}\".format(Score))\n",
    "print (Classification_Report)\n",
    "\n",
    "Logistic_Regression_Confusion_Matrix = ConfusionMatrixDisplay.from_estimator(pipeline, X_test, y_test)\n",
    "Logistic_Regression_Confusion_Matrix\n",
    "plt.show()"
   ]
  },
  {
   "cell_type": "code",
   "execution_count": 47,
   "id": "2ee30994",
   "metadata": {
    "execution": {
     "iopub.execute_input": "2024-06-11T12:22:55.859373Z",
     "iopub.status.busy": "2024-06-11T12:22:55.858945Z",
     "iopub.status.idle": "2024-06-11T12:23:08.528900Z",
     "shell.execute_reply": "2024-06-11T12:23:08.527493Z"
    },
    "papermill": {
     "duration": 12.694531,
     "end_time": "2024-06-11T12:23:08.531652",
     "exception": false,
     "start_time": "2024-06-11T12:22:55.837121",
     "status": "completed"
    },
    "tags": []
   },
   "outputs": [
    {
     "name": "stdout",
     "output_type": "stream",
     "text": [
      "LGBM\n",
      "Accuracy Score value: 0.99999536\n",
      "              precision    recall  f1-score   support\n",
      "\n",
      "           0       1.00      1.00      1.00   6253825\n",
      "           1       0.33      0.04      0.06        28\n",
      "\n",
      "    accuracy                           1.00   6253853\n",
      "   macro avg       0.67      0.52      0.53   6253853\n",
      "weighted avg       1.00      1.00      1.00   6253853\n",
      "\n"
     ]
    }
   ],
   "source": [
    "# Check for the input variable \n",
    "IsAccountTakeoverdata = data[data.IsAccountTakeover == 1]  \n",
    "dfToTestList = IsAccountTakeoverdata.drop('IsAccountTakeover', axis=1) \n",
    "tocheck = dfToTestList.sample()\n",
    "answer = pipeline.predict(tocheck)\n",
    "print(answer)\n",
    "tocheck  "
   ]
  },
  {
   "cell_type": "code",
   "execution_count": null,
   "id": "d9d187dd",
   "metadata": {},
   "outputs": [],
   "source": [
    "# Export model for api creation\n",
    "import joblib\n",
    "joblib.dump(pipeline, 'authuser_model.pkl')\n",
    "joblib.dump(pipeline, 'authuser_model.joblib')\n",
    "\n",
    "\n"
   ]
  }
 ],
 "metadata": {
  "kaggle": {
   "accelerator": "none",
   "dataSources": [
    {
     "datasetId": 2306153,
     "sourceId": 3880747,
     "sourceType": "datasetVersion"
    }
   ],
   "dockerImageVersionId": 30715,
   "isGpuEnabled": false,
   "isInternetEnabled": false,
   "language": "python",
   "sourceType": "notebook"
  },
  "kernelspec": {
   "display_name": "Python 3",
   "language": "python",
   "name": "python3"
  },
  "language_info": {
   "codemirror_mode": {
    "name": "ipython",
    "version": 3
   },
   "file_extension": ".py",
   "mimetype": "text/x-python",
   "name": "python",
   "nbconvert_exporter": "python",
   "pygments_lexer": "ipython3",
   "version": "3.11.9"
  },
  "papermill": {
   "default_parameters": {},
   "duration": 11088.011899,
   "end_time": "2024-06-11T12:23:50.065046",
   "environment_variables": {},
   "exception": null,
   "input_path": "__notebook__.ipynb",
   "output_path": "__notebook__.ipynb",
   "parameters": {},
   "start_time": "2024-06-11T09:19:02.053147",
   "version": "2.5.0"
  }
 },
 "nbformat": 4,
 "nbformat_minor": 5
}
