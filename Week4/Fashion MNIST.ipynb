{
 "cells": [
  {
   "cell_type": "code",
   "execution_count": 2,
   "metadata": {},
   "outputs": [],
   "source": [
    "#!pip install --trusted-host pypi.org --trusted-host pypi.python.org --trusted-host files.pythonhosted.org pandas\n",
    "\n",
    "import tensorflow as tf\n",
    "from keras import layers\n",
    "import pandas as pd"
   ]
  },
  {
   "cell_type": "code",
   "execution_count": 4,
   "metadata": {},
   "outputs": [],
   "source": [
    "#https://www.tensorflow.org/api_docs/python/tf/keras/datasets/fashion_mnist/load_data\n",
    "\n",
    "#Load data from keras toy datasets\n",
    "(x_train_org, y_train_org), (x_test, y_test) = tf.keras.datasets.fashion_mnist.load_data()\n",
    "\n",
    "#split the training data set to train and validate. Validation is not the test data set\n",
    "x_train, y_train = x_train_org[:-5000], y_train_org[:-5000]\n",
    "x_validation, y_validation = x_train_org[-5000:], y_train_org[-5000:]"
   ]
  },
  {
   "cell_type": "code",
   "execution_count": 5,
   "metadata": {},
   "outputs": [],
   "source": [
    "x_train, x_validation, x_test = x_train/255.0, x_validation/255.0, x_test/255.0"
   ]
  },
  {
   "cell_type": "markdown",
   "metadata": {},
   "source": [
    "Label\tDescription\n",
    "0\tT-shirt/top\n",
    "1\tTrouser\n",
    "2\tPullover\n",
    "3\tDress\n",
    "4\tCoat\n",
    "5\tSandal\n",
    "6\tShirt\n",
    "7\tSneaker\n",
    "8\tBag\n",
    "9\tAnkle boot"
   ]
  },
  {
   "cell_type": "code",
   "execution_count": 6,
   "metadata": {},
   "outputs": [],
   "source": [
    "fashion_cat = [\"0\tT-shirt/top\", \n",
    "\"1\tTrouser\", \n",
    "\"2\tPullover\", \n",
    "\"3\tDress\", \n",
    "\"4\tCoat\", \n",
    "\"5\tSandal\", \n",
    "\"6\tShirt\", \n",
    "\"7\tSneaker\", \n",
    "\"8\tBag\", \n",
    "\"9\tAnkle boot\"]\n",
    "\n",
    "#fashion_cat[y_train[5]]"
   ]
  },
  {
   "cell_type": "code",
   "execution_count": 7,
   "metadata": {},
   "outputs": [
    {
     "data": {
      "text/plain": [
       "<Dense name=hl_3, built=False>"
      ]
     },
     "execution_count": 7,
     "metadata": {},
     "output_type": "execute_result"
    }
   ],
   "source": [
    "#Build a 3 hidden layer dense neural network for classification\n",
    "\n",
    "\n",
    "model = tf.keras.Sequential()\n",
    "model.add(tf.keras.layers.Input(shape=[28, 28]))\n",
    "model.add(tf.keras.layers.Flatten())\n",
    "model.add(tf.keras.layers.Dense(300, activation=\"relu\", name=\"hl_1\"))\n",
    "model.add(tf.keras.layers.Dense(100, activation=\"relu\", name=\"hl_2\"))\n",
    "model.add(tf.keras.layers.Dense(10, activation=\"softmax\", name=\"hl_3\"))\n",
    "\n",
    "#initialize weights and biases for the layer\n",
    "layers.Dense(units=300, name=\"hl_1\", kernel_initializer='random_normal', bias_initializer='zero')\n",
    "layers.Dense(units=100, name=\"hl_2\", kernel_initializer='random_normal', bias_initializer='zero')\n",
    "layers.Dense(units=10, name=\"hl_3\", kernel_initializer='random_normal', bias_initializer='zero')"
   ]
  },
  {
   "cell_type": "code",
   "execution_count": 8,
   "metadata": {},
   "outputs": [
    {
     "data": {
      "text/html": [
       "<pre style=\"white-space:pre;overflow-x:auto;line-height:normal;font-family:Menlo,'DejaVu Sans Mono',consolas,'Courier New',monospace\"><span style=\"font-weight: bold\">Model: \"sequential\"</span>\n",
       "</pre>\n"
      ],
      "text/plain": [
       "\u001b[1mModel: \"sequential\"\u001b[0m\n"
      ]
     },
     "metadata": {},
     "output_type": "display_data"
    },
    {
     "data": {
      "text/html": [
       "<pre style=\"white-space:pre;overflow-x:auto;line-height:normal;font-family:Menlo,'DejaVu Sans Mono',consolas,'Courier New',monospace\">┏━━━━━━━━━━━━━━━━━━━━━━━━━━━━━━━━━┳━━━━━━━━━━━━━━━━━━━━━━━━┳━━━━━━━━━━━━━━━┓\n",
       "┃<span style=\"font-weight: bold\"> Layer (type)                    </span>┃<span style=\"font-weight: bold\"> Output Shape           </span>┃<span style=\"font-weight: bold\">       Param # </span>┃\n",
       "┡━━━━━━━━━━━━━━━━━━━━━━━━━━━━━━━━━╇━━━━━━━━━━━━━━━━━━━━━━━━╇━━━━━━━━━━━━━━━┩\n",
       "│ flatten (<span style=\"color: #0087ff; text-decoration-color: #0087ff\">Flatten</span>)               │ (<span style=\"color: #00d7ff; text-decoration-color: #00d7ff\">None</span>, <span style=\"color: #00af00; text-decoration-color: #00af00\">784</span>)            │             <span style=\"color: #00af00; text-decoration-color: #00af00\">0</span> │\n",
       "├─────────────────────────────────┼────────────────────────┼───────────────┤\n",
       "│ hl_1 (<span style=\"color: #0087ff; text-decoration-color: #0087ff\">Dense</span>)                    │ (<span style=\"color: #00d7ff; text-decoration-color: #00d7ff\">None</span>, <span style=\"color: #00af00; text-decoration-color: #00af00\">300</span>)            │       <span style=\"color: #00af00; text-decoration-color: #00af00\">235,500</span> │\n",
       "├─────────────────────────────────┼────────────────────────┼───────────────┤\n",
       "│ hl_2 (<span style=\"color: #0087ff; text-decoration-color: #0087ff\">Dense</span>)                    │ (<span style=\"color: #00d7ff; text-decoration-color: #00d7ff\">None</span>, <span style=\"color: #00af00; text-decoration-color: #00af00\">100</span>)            │        <span style=\"color: #00af00; text-decoration-color: #00af00\">30,100</span> │\n",
       "├─────────────────────────────────┼────────────────────────┼───────────────┤\n",
       "│ hl_3 (<span style=\"color: #0087ff; text-decoration-color: #0087ff\">Dense</span>)                    │ (<span style=\"color: #00d7ff; text-decoration-color: #00d7ff\">None</span>, <span style=\"color: #00af00; text-decoration-color: #00af00\">10</span>)             │         <span style=\"color: #00af00; text-decoration-color: #00af00\">1,010</span> │\n",
       "└─────────────────────────────────┴────────────────────────┴───────────────┘\n",
       "</pre>\n"
      ],
      "text/plain": [
       "┏━━━━━━━━━━━━━━━━━━━━━━━━━━━━━━━━━┳━━━━━━━━━━━━━━━━━━━━━━━━┳━━━━━━━━━━━━━━━┓\n",
       "┃\u001b[1m \u001b[0m\u001b[1mLayer (type)                   \u001b[0m\u001b[1m \u001b[0m┃\u001b[1m \u001b[0m\u001b[1mOutput Shape          \u001b[0m\u001b[1m \u001b[0m┃\u001b[1m \u001b[0m\u001b[1m      Param #\u001b[0m\u001b[1m \u001b[0m┃\n",
       "┡━━━━━━━━━━━━━━━━━━━━━━━━━━━━━━━━━╇━━━━━━━━━━━━━━━━━━━━━━━━╇━━━━━━━━━━━━━━━┩\n",
       "│ flatten (\u001b[38;5;33mFlatten\u001b[0m)               │ (\u001b[38;5;45mNone\u001b[0m, \u001b[38;5;34m784\u001b[0m)            │             \u001b[38;5;34m0\u001b[0m │\n",
       "├─────────────────────────────────┼────────────────────────┼───────────────┤\n",
       "│ hl_1 (\u001b[38;5;33mDense\u001b[0m)                    │ (\u001b[38;5;45mNone\u001b[0m, \u001b[38;5;34m300\u001b[0m)            │       \u001b[38;5;34m235,500\u001b[0m │\n",
       "├─────────────────────────────────┼────────────────────────┼───────────────┤\n",
       "│ hl_2 (\u001b[38;5;33mDense\u001b[0m)                    │ (\u001b[38;5;45mNone\u001b[0m, \u001b[38;5;34m100\u001b[0m)            │        \u001b[38;5;34m30,100\u001b[0m │\n",
       "├─────────────────────────────────┼────────────────────────┼───────────────┤\n",
       "│ hl_3 (\u001b[38;5;33mDense\u001b[0m)                    │ (\u001b[38;5;45mNone\u001b[0m, \u001b[38;5;34m10\u001b[0m)             │         \u001b[38;5;34m1,010\u001b[0m │\n",
       "└─────────────────────────────────┴────────────────────────┴───────────────┘\n"
      ]
     },
     "metadata": {},
     "output_type": "display_data"
    },
    {
     "data": {
      "text/html": [
       "<pre style=\"white-space:pre;overflow-x:auto;line-height:normal;font-family:Menlo,'DejaVu Sans Mono',consolas,'Courier New',monospace\"><span style=\"font-weight: bold\"> Total params: </span><span style=\"color: #00af00; text-decoration-color: #00af00\">266,610</span> (1.02 MB)\n",
       "</pre>\n"
      ],
      "text/plain": [
       "\u001b[1m Total params: \u001b[0m\u001b[38;5;34m266,610\u001b[0m (1.02 MB)\n"
      ]
     },
     "metadata": {},
     "output_type": "display_data"
    },
    {
     "data": {
      "text/html": [
       "<pre style=\"white-space:pre;overflow-x:auto;line-height:normal;font-family:Menlo,'DejaVu Sans Mono',consolas,'Courier New',monospace\"><span style=\"font-weight: bold\"> Trainable params: </span><span style=\"color: #00af00; text-decoration-color: #00af00\">266,610</span> (1.02 MB)\n",
       "</pre>\n"
      ],
      "text/plain": [
       "\u001b[1m Trainable params: \u001b[0m\u001b[38;5;34m266,610\u001b[0m (1.02 MB)\n"
      ]
     },
     "metadata": {},
     "output_type": "display_data"
    },
    {
     "data": {
      "text/html": [
       "<pre style=\"white-space:pre;overflow-x:auto;line-height:normal;font-family:Menlo,'DejaVu Sans Mono',consolas,'Courier New',monospace\"><span style=\"font-weight: bold\"> Non-trainable params: </span><span style=\"color: #00af00; text-decoration-color: #00af00\">0</span> (0.00 B)\n",
       "</pre>\n"
      ],
      "text/plain": [
       "\u001b[1m Non-trainable params: \u001b[0m\u001b[38;5;34m0\u001b[0m (0.00 B)\n"
      ]
     },
     "metadata": {},
     "output_type": "display_data"
    }
   ],
   "source": [
    "model.summary()\n",
    "#total number of parameters (w, b) = ((784*300) + 300) + ((300*100) + 100) + ((100*10) + 10) = \n",
    "#235,500 + 30,100 + 1,010 = 266610"
   ]
  },
  {
   "cell_type": "code",
   "execution_count": 10,
   "metadata": {},
   "outputs": [
    {
     "name": "stdout",
     "output_type": "stream",
     "text": [
      "Parameters and bias shape:  (784, 300) and (300,)\n",
      "Parameters and bias count:  235200 and 300\n",
      "Parameters:  [[ 0.05840163 -0.01851176  0.07408062 ...  0.05007632  0.019844\n",
      "   0.07281712]\n",
      " [ 0.05197228 -0.03590034 -0.04162723 ... -0.06290675 -0.05752344\n",
      "  -0.04324964]\n",
      " [-0.03823222 -0.05781923  0.06805165 ...  0.04132948 -0.00907077\n",
      "   0.05423452]\n",
      " ...\n",
      " [-0.05737442 -0.04863496 -0.04490469 ... -0.05122226 -0.06809554\n",
      "   0.04081891]\n",
      " [ 0.04423315 -0.00302627 -0.05635096 ... -0.05098046 -0.07096303\n",
      "  -0.01091193]\n",
      " [-0.04855223 -0.01620704  0.0158876  ... -0.05240429 -0.0267655\n",
      "   0.040999  ]]\n"
     ]
    }
   ],
   "source": [
    "weights, biases = model.get_layer(\"hl_1\").get_weights()\n",
    "print(\"Parameters and bias shape: \", weights.shape, \"and\", biases.shape)\n",
    "print(\"Parameters and bias count: \", weights.size, \"and\", biases.size)\n",
    "print(\"Parameters: \", weights)"
   ]
  },
  {
   "cell_type": "code",
   "execution_count": 11,
   "metadata": {},
   "outputs": [],
   "source": [
    "model.compile(loss=\"sparse_categorical_crossentropy\", optimizer=\"sgd\", metrics=[\"accuracy\"])"
   ]
  },
  {
   "cell_type": "code",
   "execution_count": 12,
   "metadata": {},
   "outputs": [
    {
     "name": "stdout",
     "output_type": "stream",
     "text": [
      "Epoch 1/25\n",
      "\u001b[1m1719/1719\u001b[0m \u001b[32m━━━━━━━━━━━━━━━━━━━━\u001b[0m\u001b[37m\u001b[0m \u001b[1m5s\u001b[0m 3ms/step - accuracy: 0.6978 - loss: 0.9606 - val_accuracy: 0.8236 - val_loss: 0.4985\n",
      "Epoch 2/25\n",
      "\u001b[1m1719/1719\u001b[0m \u001b[32m━━━━━━━━━━━━━━━━━━━━\u001b[0m\u001b[37m\u001b[0m \u001b[1m6s\u001b[0m 3ms/step - accuracy: 0.8287 - loss: 0.4977 - val_accuracy: 0.8386 - val_loss: 0.4447\n",
      "Epoch 3/25\n",
      "\u001b[1m1719/1719\u001b[0m \u001b[32m━━━━━━━━━━━━━━━━━━━━\u001b[0m\u001b[37m\u001b[0m \u001b[1m5s\u001b[0m 3ms/step - accuracy: 0.8414 - loss: 0.4495 - val_accuracy: 0.8470 - val_loss: 0.4248\n",
      "Epoch 4/25\n",
      "\u001b[1m1719/1719\u001b[0m \u001b[32m━━━━━━━━━━━━━━━━━━━━\u001b[0m\u001b[37m\u001b[0m \u001b[1m5s\u001b[0m 3ms/step - accuracy: 0.8559 - loss: 0.4150 - val_accuracy: 0.8598 - val_loss: 0.3990\n",
      "Epoch 5/25\n",
      "\u001b[1m1719/1719\u001b[0m \u001b[32m━━━━━━━━━━━━━━━━━━━━\u001b[0m\u001b[37m\u001b[0m \u001b[1m4s\u001b[0m 3ms/step - accuracy: 0.8608 - loss: 0.3978 - val_accuracy: 0.8582 - val_loss: 0.3939\n",
      "Epoch 6/25\n",
      "\u001b[1m1719/1719\u001b[0m \u001b[32m━━━━━━━━━━━━━━━━━━━━\u001b[0m\u001b[37m\u001b[0m \u001b[1m4s\u001b[0m 2ms/step - accuracy: 0.8685 - loss: 0.3732 - val_accuracy: 0.8674 - val_loss: 0.3726\n",
      "Epoch 7/25\n",
      "\u001b[1m1719/1719\u001b[0m \u001b[32m━━━━━━━━━━━━━━━━━━━━\u001b[0m\u001b[37m\u001b[0m \u001b[1m5s\u001b[0m 3ms/step - accuracy: 0.8729 - loss: 0.3605 - val_accuracy: 0.8644 - val_loss: 0.3716\n",
      "Epoch 8/25\n",
      "\u001b[1m1719/1719\u001b[0m \u001b[32m━━━━━━━━━━━━━━━━━━━━\u001b[0m\u001b[37m\u001b[0m \u001b[1m5s\u001b[0m 3ms/step - accuracy: 0.8767 - loss: 0.3459 - val_accuracy: 0.8676 - val_loss: 0.3726\n",
      "Epoch 9/25\n",
      "\u001b[1m1719/1719\u001b[0m \u001b[32m━━━━━━━━━━━━━━━━━━━━\u001b[0m\u001b[37m\u001b[0m \u001b[1m5s\u001b[0m 3ms/step - accuracy: 0.8775 - loss: 0.3428 - val_accuracy: 0.8682 - val_loss: 0.3642\n",
      "Epoch 10/25\n",
      "\u001b[1m1719/1719\u001b[0m \u001b[32m━━━━━━━━━━━━━━━━━━━━\u001b[0m\u001b[37m\u001b[0m \u001b[1m5s\u001b[0m 3ms/step - accuracy: 0.8827 - loss: 0.3294 - val_accuracy: 0.8768 - val_loss: 0.3462\n",
      "Epoch 11/25\n",
      "\u001b[1m1719/1719\u001b[0m \u001b[32m━━━━━━━━━━━━━━━━━━━━\u001b[0m\u001b[37m\u001b[0m \u001b[1m5s\u001b[0m 3ms/step - accuracy: 0.8841 - loss: 0.3256 - val_accuracy: 0.8756 - val_loss: 0.3346\n",
      "Epoch 12/25\n",
      "\u001b[1m1719/1719\u001b[0m \u001b[32m━━━━━━━━━━━━━━━━━━━━\u001b[0m\u001b[37m\u001b[0m \u001b[1m5s\u001b[0m 3ms/step - accuracy: 0.8873 - loss: 0.3142 - val_accuracy: 0.8758 - val_loss: 0.3468\n",
      "Epoch 13/25\n",
      "\u001b[1m1719/1719\u001b[0m \u001b[32m━━━━━━━━━━━━━━━━━━━━\u001b[0m\u001b[37m\u001b[0m \u001b[1m6s\u001b[0m 4ms/step - accuracy: 0.8904 - loss: 0.3051 - val_accuracy: 0.8814 - val_loss: 0.3299\n",
      "Epoch 14/25\n",
      "\u001b[1m1719/1719\u001b[0m \u001b[32m━━━━━━━━━━━━━━━━━━━━\u001b[0m\u001b[37m\u001b[0m \u001b[1m7s\u001b[0m 4ms/step - accuracy: 0.8914 - loss: 0.3038 - val_accuracy: 0.8820 - val_loss: 0.3311\n",
      "Epoch 15/25\n",
      "\u001b[1m1719/1719\u001b[0m \u001b[32m━━━━━━━━━━━━━━━━━━━━\u001b[0m\u001b[37m\u001b[0m \u001b[1m8s\u001b[0m 5ms/step - accuracy: 0.8955 - loss: 0.2930 - val_accuracy: 0.8798 - val_loss: 0.3246\n",
      "Epoch 16/25\n",
      "\u001b[1m1719/1719\u001b[0m \u001b[32m━━━━━━━━━━━━━━━━━━━━\u001b[0m\u001b[37m\u001b[0m \u001b[1m7s\u001b[0m 4ms/step - accuracy: 0.8957 - loss: 0.2891 - val_accuracy: 0.8754 - val_loss: 0.3570\n",
      "Epoch 17/25\n",
      "\u001b[1m1719/1719\u001b[0m \u001b[32m━━━━━━━━━━━━━━━━━━━━\u001b[0m\u001b[37m\u001b[0m \u001b[1m9s\u001b[0m 3ms/step - accuracy: 0.8992 - loss: 0.2812 - val_accuracy: 0.8848 - val_loss: 0.3230\n",
      "Epoch 18/25\n",
      "\u001b[1m1719/1719\u001b[0m \u001b[32m━━━━━━━━━━━━━━━━━━━━\u001b[0m\u001b[37m\u001b[0m \u001b[1m6s\u001b[0m 4ms/step - accuracy: 0.8991 - loss: 0.2804 - val_accuracy: 0.8840 - val_loss: 0.3158\n",
      "Epoch 19/25\n",
      "\u001b[1m1719/1719\u001b[0m \u001b[32m━━━━━━━━━━━━━━━━━━━━\u001b[0m\u001b[37m\u001b[0m \u001b[1m9s\u001b[0m 3ms/step - accuracy: 0.9024 - loss: 0.2738 - val_accuracy: 0.8826 - val_loss: 0.3194\n",
      "Epoch 20/25\n",
      "\u001b[1m1719/1719\u001b[0m \u001b[32m━━━━━━━━━━━━━━━━━━━━\u001b[0m\u001b[37m\u001b[0m \u001b[1m8s\u001b[0m 4ms/step - accuracy: 0.9049 - loss: 0.2663 - val_accuracy: 0.8818 - val_loss: 0.3263\n",
      "Epoch 21/25\n",
      "\u001b[1m1719/1719\u001b[0m \u001b[32m━━━━━━━━━━━━━━━━━━━━\u001b[0m\u001b[37m\u001b[0m \u001b[1m6s\u001b[0m 3ms/step - accuracy: 0.9057 - loss: 0.2618 - val_accuracy: 0.8834 - val_loss: 0.3184\n",
      "Epoch 22/25\n",
      "\u001b[1m1719/1719\u001b[0m \u001b[32m━━━━━━━━━━━━━━━━━━━━\u001b[0m\u001b[37m\u001b[0m \u001b[1m8s\u001b[0m 4ms/step - accuracy: 0.9085 - loss: 0.2548 - val_accuracy: 0.8826 - val_loss: 0.3151\n",
      "Epoch 23/25\n",
      "\u001b[1m1719/1719\u001b[0m \u001b[32m━━━━━━━━━━━━━━━━━━━━\u001b[0m\u001b[37m\u001b[0m \u001b[1m8s\u001b[0m 5ms/step - accuracy: 0.9108 - loss: 0.2493 - val_accuracy: 0.8902 - val_loss: 0.3085\n",
      "Epoch 24/25\n",
      "\u001b[1m1719/1719\u001b[0m \u001b[32m━━━━━━━━━━━━━━━━━━━━\u001b[0m\u001b[37m\u001b[0m \u001b[1m5s\u001b[0m 3ms/step - accuracy: 0.9104 - loss: 0.2494 - val_accuracy: 0.8886 - val_loss: 0.3102\n",
      "Epoch 25/25\n",
      "\u001b[1m1719/1719\u001b[0m \u001b[32m━━━━━━━━━━━━━━━━━━━━\u001b[0m\u001b[37m\u001b[0m \u001b[1m5s\u001b[0m 3ms/step - accuracy: 0.9129 - loss: 0.2438 - val_accuracy: 0.8856 - val_loss: 0.3062\n"
     ]
    }
   ],
   "source": [
    "history = model.fit(x_train, y_train, epochs = 25, validation_data=(x_validation, y_validation))\n",
    "\n",
    "#batch size is 32 by default. It can be changed using batch_size parameter\n",
    "#training set is 55000\n",
    "#number of batches per epoch is 1719 based on 55000/32 => 1718 of batch size 32 and remaining 24 is the batch 1719"
   ]
  },
  {
   "cell_type": "code",
   "execution_count": 13,
   "metadata": {},
   "outputs": [
    {
     "name": "stdout",
     "output_type": "stream",
     "text": [
      "Parameters:\n",
      "  [[ 0.05842537 -0.01852998  0.07408062 ...  0.05006712  0.01991932\n",
      "   0.07279824]\n",
      " [ 0.05203132 -0.03587835 -0.04162684 ... -0.06279778 -0.0574066\n",
      "  -0.04322335]\n",
      " [-0.03819115 -0.05734716  0.0680548  ...  0.04203633 -0.00875079\n",
      "   0.05423963]\n",
      " ...\n",
      " [-0.05963512 -0.06162634 -0.04473829 ... -0.04527765 -0.06725243\n",
      "   0.04216166]\n",
      " [ 0.04366907 -0.0101969  -0.05639186 ... -0.05010975 -0.07163651\n",
      "  -0.01108374]\n",
      " [-0.04853931 -0.01678847  0.01588674 ... -0.05138315 -0.02668422\n",
      "   0.04105855]]\n",
      "\n",
      "\n",
      "Biases:\n",
      "  [ 1.51358098e-01  1.12363230e-02 -1.16376663e-02  3.52397445e-03\n",
      "  1.39839485e-01 -8.31045881e-02  2.35095069e-01  2.12877039e-02\n",
      " -8.45526997e-03  5.48338285e-03  7.32624158e-02  7.71101713e-02\n",
      "  1.99265312e-03  7.63460770e-02  6.30518869e-02  1.33030534e-01\n",
      "  1.68699861e-01 -4.14977185e-02  2.74765603e-02  3.28961834e-02\n",
      "  8.74539022e-04 -3.09155732e-02  6.09915257e-02  4.19998681e-03\n",
      "  5.03986776e-02  1.33873448e-01  7.10217953e-02 -3.66308726e-02\n",
      "  6.86691776e-02 -1.95925729e-03  6.72504082e-02  6.65900558e-02\n",
      "  5.11524342e-02  7.83803314e-03 -3.89903560e-02  1.75978944e-01\n",
      "  9.88220572e-02 -2.29603797e-02 -5.51134571e-02  1.55082852e-01\n",
      "  4.11815047e-02 -4.60851528e-02  9.54038799e-02  5.77542521e-02\n",
      " -3.79575081e-02  9.09924358e-02  5.04919402e-02 -9.03394744e-02\n",
      "  3.42541747e-02  2.20802408e-02  1.09531723e-01  1.88293844e-01\n",
      "  1.88018307e-01  3.65012698e-02 -1.00560701e-02  2.33143941e-02\n",
      " -2.57685166e-02  1.10290408e-01  9.44711417e-02  1.26475254e-02\n",
      " -1.38038814e-01  4.83821779e-02  2.02203188e-02  3.99312526e-02\n",
      "  4.19240631e-02 -2.41897744e-03  3.94654414e-03 -4.25127111e-02\n",
      "  1.77728206e-01 -1.46830864e-02  1.58178583e-01  5.26396334e-02\n",
      " -2.76571307e-02 -1.28008053e-02 -5.52002294e-03  2.35696435e-02\n",
      " -4.06999723e-04 -8.68648514e-02  3.61981392e-02  2.46523377e-02\n",
      " -2.42931535e-03  1.35869578e-01  1.71720497e-02  6.92115203e-02\n",
      "  1.52875915e-01  3.13147642e-02  2.24616472e-02  2.65021157e-02\n",
      "  1.53851673e-01 -9.61252302e-02  6.90623969e-02  2.24725436e-02\n",
      "  8.06306824e-02 -4.18855064e-02  4.53210995e-02 -1.75156188e-03\n",
      "  2.45071035e-02 -6.73014065e-03  7.22871944e-02 -2.13989578e-02\n",
      " -2.93882787e-02 -4.82372157e-02  2.06417441e-02 -1.47733642e-02\n",
      "  5.38575202e-02  1.65109448e-02 -2.33502481e-02  2.24897377e-02\n",
      " -2.11821515e-02  4.67457343e-03 -3.91851121e-04  6.50760531e-02\n",
      "  8.39019716e-02 -8.95043183e-03  5.35144377e-03 -1.47939017e-02\n",
      "  6.44897893e-02  5.90778552e-02  8.13462138e-02  2.25286558e-02\n",
      "  7.16508776e-02  1.24158300e-01  1.20397592e-02 -1.12334751e-02\n",
      "  7.45484978e-03 -3.80326086e-03  7.95043930e-02  2.13765278e-02\n",
      " -3.06051644e-03  6.44552484e-02 -1.32413413e-02  5.71835786e-02\n",
      " -1.68778445e-03  2.74966341e-02 -1.26715317e-01 -1.54310325e-02\n",
      " -5.58319390e-02 -2.70536188e-02 -7.71109946e-03  8.73951431e-05\n",
      "  1.54057518e-01  8.18830132e-02  8.66934657e-02  7.14088455e-02\n",
      " -1.09397188e-01  1.96581688e-02  5.54803833e-02  5.82505018e-02\n",
      " -2.76725218e-02 -1.43103311e-02 -1.80532634e-02  1.07324049e-01\n",
      "  3.75054055e-03  3.59464325e-02  2.95600984e-02  4.27153334e-02\n",
      "  5.13724945e-02  5.03074639e-02  6.15972802e-02  2.39097308e-02\n",
      " -1.01725772e-01  3.53576951e-02 -2.36627832e-02  8.86151344e-02\n",
      "  2.37144213e-02  1.55764516e-03  6.84362277e-02  2.13071913e-01\n",
      " -4.39148173e-02  1.15328602e-01 -3.28547582e-02  3.67237045e-03\n",
      "  1.61952645e-01 -4.99938130e-02  8.47460926e-02 -1.96668948e-03\n",
      " -8.41493718e-03  4.74617891e-02  1.21572755e-01  3.20311030e-03\n",
      "  2.91749788e-03  2.01910764e-01  8.71983245e-02 -3.72693932e-04\n",
      " -5.25996462e-03  1.05034836e-01  1.61714822e-01 -1.05588585e-02\n",
      "  5.98356128e-03  8.83941539e-03 -1.22272884e-02 -6.87623178e-05\n",
      " -5.67283072e-02  8.41814503e-02 -9.28244069e-02  6.21958822e-03\n",
      " -1.99534185e-02  1.61537062e-02 -1.14661474e-02  1.53285330e-02\n",
      " -1.66096780e-02 -1.18808961e-02  9.14458372e-03  7.10457116e-02\n",
      " -1.04142390e-01 -2.01408621e-02  9.99811217e-02 -3.55510321e-03\n",
      " -7.50409961e-02 -2.80298386e-03  1.22612715e-02  9.87472907e-02\n",
      " -1.25118233e-02  1.85593162e-02 -4.67134230e-02 -1.12904478e-02\n",
      "  3.53954397e-02  8.34108368e-02  5.24198897e-02 -2.27148142e-02\n",
      "  6.74538920e-03  1.21023417e-01 -1.03766648e-02  4.24166061e-02\n",
      "  8.30875784e-02 -1.06061026e-02  1.40909024e-03  9.88468900e-02\n",
      " -1.91765949e-02  1.27542481e-01  9.28599536e-02 -5.90009196e-03\n",
      "  3.92350629e-02  8.20471272e-02  3.68833691e-02  9.18558314e-02\n",
      "  4.43389937e-02  1.24422021e-01 -4.81759571e-03 -6.17992245e-02\n",
      "  4.14655842e-02  4.55756411e-02 -5.28726764e-02 -5.23067405e-03\n",
      "  4.45360541e-02  7.75584579e-02  6.33601025e-02  1.32874101e-02\n",
      "  2.05668435e-02  8.16862658e-02  2.27723867e-02  1.07862875e-01\n",
      "  5.53146414e-02  3.67827294e-03  4.95994091e-02  3.98609042e-03\n",
      "  2.31905989e-02  2.61626933e-02 -6.92187482e-03  1.04486838e-01\n",
      "  9.99480672e-03 -1.29738897e-01  4.78343628e-02  1.32605806e-02\n",
      " -4.43186946e-02  2.43150517e-02 -1.30789541e-02 -4.66530491e-03\n",
      "  1.76477414e-02  1.90340877e-01 -2.36947536e-02  1.96525335e-01\n",
      "  7.89326336e-03 -2.06496865e-02 -3.40095186e-03  1.94500431e-01\n",
      "  1.43225253e-01  1.23083107e-02  1.41518712e-01 -6.40692785e-02\n",
      " -3.02758254e-02  2.74459217e-02  1.30113974e-01  4.67049936e-03\n",
      " -1.96219068e-02  3.27175227e-03  3.64133203e-03 -6.02893755e-02\n",
      " -4.92257737e-02  9.43058506e-02 -4.11615409e-02 -5.09819249e-03\n",
      " -8.05012956e-02  3.78391631e-02  2.80186813e-02  4.54708561e-02\n",
      "  3.14159989e-02 -2.33390369e-03  3.11629437e-02  1.16730191e-01]\n"
     ]
    }
   ],
   "source": [
    "weights, biases = model.get_layer(\"hl_1\").get_weights()\n",
    "print(\"Parameters:\\n \", weights)\n",
    "print(\"\\n\\nBiases:\\n \", biases)"
   ]
  },
  {
   "cell_type": "code",
   "execution_count": 14,
   "metadata": {},
   "outputs": [
    {
     "data": {
      "image/png": "[encoded data removed]",
      "text/plain": [
       "<Figure size 800x500 with 1 Axes>"
      ]
     },
     "metadata": {},
     "output_type": "display_data"
    }
   ],
   "source": [
    "import matplotlib.pyplot as plt\n",
    "\n",
    "pd.DataFrame(history.history).plot(\n",
    "    figsize=(8, 5), xlim=[0, 29], ylim=[0, 1], grid=True, xlabel=\"Epoch\",\n",
    "    style=[\"r--\", \"r--.\", \"b-\", \"b-*\"])\n",
    "plt.show()"
   ]
  },
  {
   "cell_type": "markdown",
   "metadata": {},
   "source": [
    "Hyperparameters to tune on the train set: Learning Rate, # of layers, # of neurons, activation function type, batch size, "
   ]
  },
  {
   "cell_type": "code",
   "execution_count": 15,
   "metadata": {},
   "outputs": [
    {
     "name": "stdout",
     "output_type": "stream",
     "text": [
      "\u001b[1m313/313\u001b[0m \u001b[32m━━━━━━━━━━━━━━━━━━━━\u001b[0m\u001b[37m\u001b[0m \u001b[1m1s\u001b[0m 1ms/step - accuracy: 0.8802 - loss: 0.3332\n"
     ]
    },
    {
     "data": {
      "text/plain": [
       "[0.3339834213256836, 0.8791999816894531]"
      ]
     },
     "execution_count": 15,
     "metadata": {},
     "output_type": "execute_result"
    }
   ],
   "source": [
    "model.evaluate(x_test, y_test)"
   ]
  },
  {
   "cell_type": "code",
   "execution_count": 27,
   "metadata": {},
   "outputs": [
    {
     "name": "stdout",
     "output_type": "stream",
     "text": [
      "\u001b[1m1/1\u001b[0m \u001b[32m━━━━━━━━━━━━━━━━━━━━\u001b[0m\u001b[37m\u001b[0m \u001b[1m0s\u001b[0m 21ms/step\n"
     ]
    },
    {
     "data": {
      "text/plain": [
       "array([[0.  , 0.  , 0.  , 0.  , 0.  , 0.  , 0.  , 0.02, 0.  , 0.98],\n",
       "       [0.  , 0.  , 0.99, 0.  , 0.01, 0.  , 0.  , 0.  , 0.  , 0.  ],\n",
       "       [0.  , 1.  , 0.  , 0.  , 0.  , 0.  , 0.  , 0.  , 0.  , 0.  ]],\n",
       "      dtype=float32)"
      ]
     },
     "execution_count": 27,
     "metadata": {},
     "output_type": "execute_result"
    }
   ],
   "source": [
    "y_hat = model.predict(x_test[:3]).round(2)\n",
    "y_hat"
   ]
  }
 ],
 "metadata": {
  "kernelspec": {
   "display_name": "Python 3",
   "language": "python",
   "name": "python3"
  },
  "language_info": {
   "codemirror_mode": {
    "name": "ipython",
    "version": 3
   },
   "file_extension": ".py",
   "mimetype": "text/x-python",
   "name": "python",
   "nbconvert_exporter": "python",
   "pygments_lexer": "ipython3",
   "version": "3.12.2"
  }
 },
 "nbformat": 4,
 "nbformat_minor": 2
}
